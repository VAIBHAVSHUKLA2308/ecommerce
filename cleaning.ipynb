{
 "cells": [
  {
   "cell_type": "code",
   "execution_count": 101,
   "metadata": {},
   "outputs": [],
   "source": [
    "import pandas as pd\n",
    "import numpy as np"
   ]
  },
  {
   "cell_type": "code",
   "execution_count": 102,
   "metadata": {},
   "outputs": [
    {
     "data": {
      "text/html": [
       "<div>\n",
       "<style scoped>\n",
       "    .dataframe tbody tr th:only-of-type {\n",
       "        vertical-align: middle;\n",
       "    }\n",
       "\n",
       "    .dataframe tbody tr th {\n",
       "        vertical-align: top;\n",
       "    }\n",
       "\n",
       "    .dataframe thead th {\n",
       "        text-align: right;\n",
       "    }\n",
       "</style>\n",
       "<table border=\"1\" class=\"dataframe\">\n",
       "  <thead>\n",
       "    <tr style=\"text-align: right;\">\n",
       "      <th></th>\n",
       "      <th>name</th>\n",
       "      <th>price</th>\n",
       "      <th>rr</th>\n",
       "    </tr>\n",
       "  </thead>\n",
       "  <tbody>\n",
       "    <tr>\n",
       "      <th>0</th>\n",
       "      <td>HP Core i7 13th Gen - (16 GB/512 GB SSD/Window...</td>\n",
       "      <td>₹1,14,990</td>\n",
       "      <td>NaN</td>\n",
       "    </tr>\n",
       "    <tr>\n",
       "      <th>1</th>\n",
       "      <td>HP Victus Ryzen 5 Hexa Core 5600H - (16 GB/512...</td>\n",
       "      <td>₹67,990</td>\n",
       "      <td>14 Ratings &amp; 2 Reviews</td>\n",
       "    </tr>\n",
       "    <tr>\n",
       "      <th>2</th>\n",
       "      <td>ASUS Vivobook 15 Core i5 11th Gen - (8 GB/512 ...</td>\n",
       "      <td>₹40,990</td>\n",
       "      <td>555 Ratings &amp; 47 Reviews</td>\n",
       "    </tr>\n",
       "    <tr>\n",
       "      <th>3</th>\n",
       "      <td>HP 15s Intel Core i5 12th Gen - (8 GB/512 GB S...</td>\n",
       "      <td>₹54,990</td>\n",
       "      <td>2,736 Ratings &amp; 207 Reviews</td>\n",
       "    </tr>\n",
       "    <tr>\n",
       "      <th>4</th>\n",
       "      <td>HP 14s Intel Core i3 11th Gen - (8 GB/512 GB S...</td>\n",
       "      <td>₹38,490</td>\n",
       "      <td>4,166 Ratings &amp; 364 Reviews</td>\n",
       "    </tr>\n",
       "    <tr>\n",
       "      <th>...</th>\n",
       "      <td>...</td>\n",
       "      <td>...</td>\n",
       "      <td>...</td>\n",
       "    </tr>\n",
       "    <tr>\n",
       "      <th>859</th>\n",
       "      <td>HP Victus Ryzen 5 Hexa Core 5600H - (16 GB/512...</td>\n",
       "      <td>₹67,990</td>\n",
       "      <td>14 Ratings &amp; 2 Reviews</td>\n",
       "    </tr>\n",
       "    <tr>\n",
       "      <th>860</th>\n",
       "      <td>HP Pavilion Intel Core i5 11th Gen - (16 GB/51...</td>\n",
       "      <td>₹68,000</td>\n",
       "      <td>293 Ratings &amp; 23 Reviews</td>\n",
       "    </tr>\n",
       "    <tr>\n",
       "      <th>861</th>\n",
       "      <td>HP Pavilion Intel Core i5 11th Gen - (16 GB/51...</td>\n",
       "      <td>₹70,490</td>\n",
       "      <td>22 Ratings &amp; 4 Reviews</td>\n",
       "    </tr>\n",
       "    <tr>\n",
       "      <th>862</th>\n",
       "      <td>HP 15s Ryzen 3 Dual Core 3250U - (8 GB/1 TB HD...</td>\n",
       "      <td>₹39,490</td>\n",
       "      <td>7,582 Ratings &amp; 933 Reviews</td>\n",
       "    </tr>\n",
       "    <tr>\n",
       "      <th>863</th>\n",
       "      <td>HP 15s Intel Core i5 12th Gen - (8 GB/512 GB S...</td>\n",
       "      <td>₹54,990</td>\n",
       "      <td>2,736 Ratings &amp; 207 Reviews</td>\n",
       "    </tr>\n",
       "  </tbody>\n",
       "</table>\n",
       "<p>864 rows × 3 columns</p>\n",
       "</div>"
      ],
      "text/plain": [
       "                                                  name      price   \n",
       "0    HP Core i7 13th Gen - (16 GB/512 GB SSD/Window...  ₹1,14,990  \\\n",
       "1    HP Victus Ryzen 5 Hexa Core 5600H - (16 GB/512...    ₹67,990   \n",
       "2    ASUS Vivobook 15 Core i5 11th Gen - (8 GB/512 ...    ₹40,990   \n",
       "3    HP 15s Intel Core i5 12th Gen - (8 GB/512 GB S...    ₹54,990   \n",
       "4    HP 14s Intel Core i3 11th Gen - (8 GB/512 GB S...    ₹38,490   \n",
       "..                                                 ...        ...   \n",
       "859  HP Victus Ryzen 5 Hexa Core 5600H - (16 GB/512...    ₹67,990   \n",
       "860  HP Pavilion Intel Core i5 11th Gen - (16 GB/51...    ₹68,000   \n",
       "861  HP Pavilion Intel Core i5 11th Gen - (16 GB/51...    ₹70,490   \n",
       "862  HP 15s Ryzen 3 Dual Core 3250U - (8 GB/1 TB HD...    ₹39,490   \n",
       "863  HP 15s Intel Core i5 12th Gen - (8 GB/512 GB S...    ₹54,990   \n",
       "\n",
       "                              rr  \n",
       "0                            NaN  \n",
       "1         14 Ratings & 2 Reviews  \n",
       "2       555 Ratings & 47 Reviews  \n",
       "3    2,736 Ratings & 207 Reviews  \n",
       "4    4,166 Ratings & 364 Reviews  \n",
       "..                           ...  \n",
       "859       14 Ratings & 2 Reviews  \n",
       "860     293 Ratings & 23 Reviews  \n",
       "861       22 Ratings & 4 Reviews  \n",
       "862  7,582 Ratings & 933 Reviews  \n",
       "863  2,736 Ratings & 207 Reviews  \n",
       "\n",
       "[864 rows x 3 columns]"
      ]
     },
     "execution_count": 102,
     "metadata": {},
     "output_type": "execute_result"
    }
   ],
   "source": [
    "laptops = pd.read_csv('laptops.csv')\n",
    "laptops"
   ]
  },
  {
   "cell_type": "code",
   "execution_count": 103,
   "metadata": {},
   "outputs": [],
   "source": [
    "def clean_price(price):\n",
    "    if isinstance(price, str):\n",
    "        if '₹' in price:\n",
    "            price = price.replace('₹','')\n",
    "        if ',' in price:\n",
    "            price = price.replace(',','')\n",
    "        if price.isnumeric():\n",
    "            return int(price)\n",
    "    return np.nan\n",
    "\n",
    "\n",
    "laptops['price'] = laptops['price'].apply(clean_price)"
   ]
  },
  {
   "cell_type": "code",
   "execution_count": 104,
   "metadata": {},
   "outputs": [],
   "source": [
    "def get_rating(rr):\n",
    "    if isinstance(rr, str):\n",
    "        rating = rr.split()[0].replace(',','')\n",
    "        return int(rating)\n",
    "    return 0\n",
    "\n",
    "def get_reviews(rr):\n",
    "    if isinstance(rr, str):\n",
    "        reviews = rr.split()[-2].replace(',','')\n",
    "        return int(reviews)\n",
    "    return 0\n",
    "\n",
    "laptops['num_rating'] = laptops['rr'].apply(get_rating)\n",
    "laptops['num_reviews'] = laptops['rr'].apply(get_reviews)\n"
   ]
  },
  {
   "cell_type": "code",
   "execution_count": 105,
   "metadata": {},
   "outputs": [],
   "source": [
    "laptops.drop(columns=['rr'], inplace=True)"
   ]
  },
  {
   "cell_type": "code",
   "execution_count": 106,
   "metadata": {},
   "outputs": [
    {
     "data": {
      "text/html": [
       "<div>\n",
       "<style scoped>\n",
       "    .dataframe tbody tr th:only-of-type {\n",
       "        vertical-align: middle;\n",
       "    }\n",
       "\n",
       "    .dataframe tbody tr th {\n",
       "        vertical-align: top;\n",
       "    }\n",
       "\n",
       "    .dataframe thead th {\n",
       "        text-align: right;\n",
       "    }\n",
       "</style>\n",
       "<table border=\"1\" class=\"dataframe\">\n",
       "  <thead>\n",
       "    <tr style=\"text-align: right;\">\n",
       "      <th></th>\n",
       "      <th>name</th>\n",
       "      <th>price</th>\n",
       "      <th>num_rating</th>\n",
       "      <th>num_reviews</th>\n",
       "    </tr>\n",
       "  </thead>\n",
       "  <tbody>\n",
       "    <tr>\n",
       "      <th>0</th>\n",
       "      <td>HP Core i7 13th Gen - (16 GB/512 GB SSD/Window...</td>\n",
       "      <td>114990</td>\n",
       "      <td>0</td>\n",
       "      <td>0</td>\n",
       "    </tr>\n",
       "    <tr>\n",
       "      <th>1</th>\n",
       "      <td>HP Victus Ryzen 5 Hexa Core 5600H - (16 GB/512...</td>\n",
       "      <td>67990</td>\n",
       "      <td>14</td>\n",
       "      <td>2</td>\n",
       "    </tr>\n",
       "    <tr>\n",
       "      <th>2</th>\n",
       "      <td>ASUS Vivobook 15 Core i5 11th Gen - (8 GB/512 ...</td>\n",
       "      <td>40990</td>\n",
       "      <td>555</td>\n",
       "      <td>47</td>\n",
       "    </tr>\n",
       "    <tr>\n",
       "      <th>3</th>\n",
       "      <td>HP 15s Intel Core i5 12th Gen - (8 GB/512 GB S...</td>\n",
       "      <td>54990</td>\n",
       "      <td>2736</td>\n",
       "      <td>207</td>\n",
       "    </tr>\n",
       "    <tr>\n",
       "      <th>4</th>\n",
       "      <td>HP 14s Intel Core i3 11th Gen - (8 GB/512 GB S...</td>\n",
       "      <td>38490</td>\n",
       "      <td>4166</td>\n",
       "      <td>364</td>\n",
       "    </tr>\n",
       "    <tr>\n",
       "      <th>...</th>\n",
       "      <td>...</td>\n",
       "      <td>...</td>\n",
       "      <td>...</td>\n",
       "      <td>...</td>\n",
       "    </tr>\n",
       "    <tr>\n",
       "      <th>859</th>\n",
       "      <td>HP Victus Ryzen 5 Hexa Core 5600H - (16 GB/512...</td>\n",
       "      <td>67990</td>\n",
       "      <td>14</td>\n",
       "      <td>2</td>\n",
       "    </tr>\n",
       "    <tr>\n",
       "      <th>860</th>\n",
       "      <td>HP Pavilion Intel Core i5 11th Gen - (16 GB/51...</td>\n",
       "      <td>68000</td>\n",
       "      <td>293</td>\n",
       "      <td>23</td>\n",
       "    </tr>\n",
       "    <tr>\n",
       "      <th>861</th>\n",
       "      <td>HP Pavilion Intel Core i5 11th Gen - (16 GB/51...</td>\n",
       "      <td>70490</td>\n",
       "      <td>22</td>\n",
       "      <td>4</td>\n",
       "    </tr>\n",
       "    <tr>\n",
       "      <th>862</th>\n",
       "      <td>HP 15s Ryzen 3 Dual Core 3250U - (8 GB/1 TB HD...</td>\n",
       "      <td>39490</td>\n",
       "      <td>7582</td>\n",
       "      <td>933</td>\n",
       "    </tr>\n",
       "    <tr>\n",
       "      <th>863</th>\n",
       "      <td>HP 15s Intel Core i5 12th Gen - (8 GB/512 GB S...</td>\n",
       "      <td>54990</td>\n",
       "      <td>2736</td>\n",
       "      <td>207</td>\n",
       "    </tr>\n",
       "  </tbody>\n",
       "</table>\n",
       "<p>864 rows × 4 columns</p>\n",
       "</div>"
      ],
      "text/plain": [
       "                                                  name   price  num_rating   \n",
       "0    HP Core i7 13th Gen - (16 GB/512 GB SSD/Window...  114990           0  \\\n",
       "1    HP Victus Ryzen 5 Hexa Core 5600H - (16 GB/512...   67990          14   \n",
       "2    ASUS Vivobook 15 Core i5 11th Gen - (8 GB/512 ...   40990         555   \n",
       "3    HP 15s Intel Core i5 12th Gen - (8 GB/512 GB S...   54990        2736   \n",
       "4    HP 14s Intel Core i3 11th Gen - (8 GB/512 GB S...   38490        4166   \n",
       "..                                                 ...     ...         ...   \n",
       "859  HP Victus Ryzen 5 Hexa Core 5600H - (16 GB/512...   67990          14   \n",
       "860  HP Pavilion Intel Core i5 11th Gen - (16 GB/51...   68000         293   \n",
       "861  HP Pavilion Intel Core i5 11th Gen - (16 GB/51...   70490          22   \n",
       "862  HP 15s Ryzen 3 Dual Core 3250U - (8 GB/1 TB HD...   39490        7582   \n",
       "863  HP 15s Intel Core i5 12th Gen - (8 GB/512 GB S...   54990        2736   \n",
       "\n",
       "     num_reviews  \n",
       "0              0  \n",
       "1              2  \n",
       "2             47  \n",
       "3            207  \n",
       "4            364  \n",
       "..           ...  \n",
       "859            2  \n",
       "860           23  \n",
       "861            4  \n",
       "862          933  \n",
       "863          207  \n",
       "\n",
       "[864 rows x 4 columns]"
      ]
     },
     "execution_count": 106,
     "metadata": {},
     "output_type": "execute_result"
    }
   ],
   "source": [
    "laptops"
   ]
  },
  {
   "cell_type": "code",
   "execution_count": 107,
   "metadata": {},
   "outputs": [],
   "source": [
    "from string import punctuation\n",
    "def clean_name(name):\n",
    "    while '(' in name:\n",
    "        start = name.find('(')\n",
    "        end = name.find(')') + 1\n",
    "        name_1, name_2 = '',''\n",
    "        if start > 0 :\n",
    "            name_1 = name[:start].strip()\n",
    "        if end > 0:\n",
    "            name_2 = name[end:].strip()\n",
    "        name = name_1 +' '+name_2\n",
    "    for i in punctuation:\n",
    "            name = name.replace(i,'')\n",
    "    name = name.replace('-','').replace('  ',' ')\n",
    "     \n",
    "    return name\n",
    "\n",
    "laptops['name']=laptops['name'].apply(clean_name)"
   ]
  },
  {
   "cell_type": "code",
   "execution_count": 108,
   "metadata": {},
   "outputs": [],
   "source": [
    "laptops['short_name'] = laptops['name'].apply(lambda n: n[:25]+'...')"
   ]
  },
  {
   "cell_type": "code",
   "execution_count": 109,
   "metadata": {},
   "outputs": [],
   "source": [
    "import plotly.express as px"
   ]
  },
  {
   "cell_type": "code",
   "execution_count": 110,
   "metadata": {},
   "outputs": [
    {
     "data": {
      "application/vnd.plotly.v1+json": {
       "config": {
        "plotlyServerURL": "https://plot.ly"
       },
       "data": [
        {
         "alignmentgroup": "True",
         "hovertemplate": "short_name=%{x}<br>price=%{y}<extra></extra>",
         "legendgroup": "",
         "marker": {
          "color": "#636efa",
          "opacity": 0.5,
          "pattern": {
           "shape": ""
          }
         },
         "name": "",
         "offsetgroup": "",
         "orientation": "v",
         "showlegend": false,
         "textposition": "auto",
         "type": "bar",
         "x": [
          "ASUS ROG Zephyrus S15 Cor...",
          "MSI Raider GE66 Core i7 1...",
          "DELL Alienware Core i7 12...",
          "APPLE 2023 MacBook Pro M2...",
          "APPLE 2023 MacBook Pro M2...",
          "ALIENWARE Core i7 10th Ge...",
          "MSI Core i7 13th Gen Raid...",
          "ASUS ROG Flow X13 with Ra...",
          "ASUS ROG Strix SCAR 17 Ry...",
          "ASUS ROG Strix SCAR 15 Co...",
          "MSI Stealth GS66 Core i7 ...",
          "ASUS ROG Strix SCAR 18 Co...",
          "APPLE 2023 MacBook Pro M2...",
          "APPLE 2023 MacBook Pro M2...",
          "MSI Core i9 12th Gen ...",
          "HP Omen Intel Core i9 12t...",
          "DELL Alienware Core i9 12...",
          "APPLE 2023 MacBook Pro M2...",
          "ALIENWARE Core i9 10th Ge...",
          "DELL Alienware Core i9 12...",
          "ASUS ROG Zephyrus Duo 16 ...",
          "ASUS ROG Strix Scar 17 SE...",
          "ASUS ROG Zephyrus M16 Cor...",
          "ASUS ROG Strix Scar 17 SE...",
          "ASUS ROG Zephyrus Duo 16 ..."
         ],
         "xaxis": "x",
         "y": [
          234990,
          244990,
          246490,
          248990,
          248990,
          250000,
          259990,
          264990,
          269990,
          274990,
          275990,
          279990,
          285990,
          285990,
          289990,
          296000,
          304990,
          323990,
          325990,
          334990,
          339990,
          359990,
          364990,
          399990,
          429990
         ],
         "yaxis": "y"
        }
       ],
       "layout": {
        "barmode": "overlay",
        "height": 800,
        "legend": {
         "tracegroupgap": 0
        },
        "margin": {
         "t": 60
        },
        "template": {
         "data": {
          "bar": [
           {
            "error_x": {
             "color": "#2a3f5f"
            },
            "error_y": {
             "color": "#2a3f5f"
            },
            "marker": {
             "line": {
              "color": "#E5ECF6",
              "width": 0.5
             },
             "pattern": {
              "fillmode": "overlay",
              "size": 10,
              "solidity": 0.2
             }
            },
            "type": "bar"
           }
          ],
          "barpolar": [
           {
            "marker": {
             "line": {
              "color": "#E5ECF6",
              "width": 0.5
             },
             "pattern": {
              "fillmode": "overlay",
              "size": 10,
              "solidity": 0.2
             }
            },
            "type": "barpolar"
           }
          ],
          "carpet": [
           {
            "aaxis": {
             "endlinecolor": "#2a3f5f",
             "gridcolor": "white",
             "linecolor": "white",
             "minorgridcolor": "white",
             "startlinecolor": "#2a3f5f"
            },
            "baxis": {
             "endlinecolor": "#2a3f5f",
             "gridcolor": "white",
             "linecolor": "white",
             "minorgridcolor": "white",
             "startlinecolor": "#2a3f5f"
            },
            "type": "carpet"
           }
          ],
          "choropleth": [
           {
            "colorbar": {
             "outlinewidth": 0,
             "ticks": ""
            },
            "type": "choropleth"
           }
          ],
          "contour": [
           {
            "colorbar": {
             "outlinewidth": 0,
             "ticks": ""
            },
            "colorscale": [
             [
              0,
              "#0d0887"
             ],
             [
              0.1111111111111111,
              "#46039f"
             ],
             [
              0.2222222222222222,
              "#7201a8"
             ],
             [
              0.3333333333333333,
              "#9c179e"
             ],
             [
              0.4444444444444444,
              "#bd3786"
             ],
             [
              0.5555555555555556,
              "#d8576b"
             ],
             [
              0.6666666666666666,
              "#ed7953"
             ],
             [
              0.7777777777777778,
              "#fb9f3a"
             ],
             [
              0.8888888888888888,
              "#fdca26"
             ],
             [
              1,
              "#f0f921"
             ]
            ],
            "type": "contour"
           }
          ],
          "contourcarpet": [
           {
            "colorbar": {
             "outlinewidth": 0,
             "ticks": ""
            },
            "type": "contourcarpet"
           }
          ],
          "heatmap": [
           {
            "colorbar": {
             "outlinewidth": 0,
             "ticks": ""
            },
            "colorscale": [
             [
              0,
              "#0d0887"
             ],
             [
              0.1111111111111111,
              "#46039f"
             ],
             [
              0.2222222222222222,
              "#7201a8"
             ],
             [
              0.3333333333333333,
              "#9c179e"
             ],
             [
              0.4444444444444444,
              "#bd3786"
             ],
             [
              0.5555555555555556,
              "#d8576b"
             ],
             [
              0.6666666666666666,
              "#ed7953"
             ],
             [
              0.7777777777777778,
              "#fb9f3a"
             ],
             [
              0.8888888888888888,
              "#fdca26"
             ],
             [
              1,
              "#f0f921"
             ]
            ],
            "type": "heatmap"
           }
          ],
          "heatmapgl": [
           {
            "colorbar": {
             "outlinewidth": 0,
             "ticks": ""
            },
            "colorscale": [
             [
              0,
              "#0d0887"
             ],
             [
              0.1111111111111111,
              "#46039f"
             ],
             [
              0.2222222222222222,
              "#7201a8"
             ],
             [
              0.3333333333333333,
              "#9c179e"
             ],
             [
              0.4444444444444444,
              "#bd3786"
             ],
             [
              0.5555555555555556,
              "#d8576b"
             ],
             [
              0.6666666666666666,
              "#ed7953"
             ],
             [
              0.7777777777777778,
              "#fb9f3a"
             ],
             [
              0.8888888888888888,
              "#fdca26"
             ],
             [
              1,
              "#f0f921"
             ]
            ],
            "type": "heatmapgl"
           }
          ],
          "histogram": [
           {
            "marker": {
             "pattern": {
              "fillmode": "overlay",
              "size": 10,
              "solidity": 0.2
             }
            },
            "type": "histogram"
           }
          ],
          "histogram2d": [
           {
            "colorbar": {
             "outlinewidth": 0,
             "ticks": ""
            },
            "colorscale": [
             [
              0,
              "#0d0887"
             ],
             [
              0.1111111111111111,
              "#46039f"
             ],
             [
              0.2222222222222222,
              "#7201a8"
             ],
             [
              0.3333333333333333,
              "#9c179e"
             ],
             [
              0.4444444444444444,
              "#bd3786"
             ],
             [
              0.5555555555555556,
              "#d8576b"
             ],
             [
              0.6666666666666666,
              "#ed7953"
             ],
             [
              0.7777777777777778,
              "#fb9f3a"
             ],
             [
              0.8888888888888888,
              "#fdca26"
             ],
             [
              1,
              "#f0f921"
             ]
            ],
            "type": "histogram2d"
           }
          ],
          "histogram2dcontour": [
           {
            "colorbar": {
             "outlinewidth": 0,
             "ticks": ""
            },
            "colorscale": [
             [
              0,
              "#0d0887"
             ],
             [
              0.1111111111111111,
              "#46039f"
             ],
             [
              0.2222222222222222,
              "#7201a8"
             ],
             [
              0.3333333333333333,
              "#9c179e"
             ],
             [
              0.4444444444444444,
              "#bd3786"
             ],
             [
              0.5555555555555556,
              "#d8576b"
             ],
             [
              0.6666666666666666,
              "#ed7953"
             ],
             [
              0.7777777777777778,
              "#fb9f3a"
             ],
             [
              0.8888888888888888,
              "#fdca26"
             ],
             [
              1,
              "#f0f921"
             ]
            ],
            "type": "histogram2dcontour"
           }
          ],
          "mesh3d": [
           {
            "colorbar": {
             "outlinewidth": 0,
             "ticks": ""
            },
            "type": "mesh3d"
           }
          ],
          "parcoords": [
           {
            "line": {
             "colorbar": {
              "outlinewidth": 0,
              "ticks": ""
             }
            },
            "type": "parcoords"
           }
          ],
          "pie": [
           {
            "automargin": true,
            "type": "pie"
           }
          ],
          "scatter": [
           {
            "fillpattern": {
             "fillmode": "overlay",
             "size": 10,
             "solidity": 0.2
            },
            "type": "scatter"
           }
          ],
          "scatter3d": [
           {
            "line": {
             "colorbar": {
              "outlinewidth": 0,
              "ticks": ""
             }
            },
            "marker": {
             "colorbar": {
              "outlinewidth": 0,
              "ticks": ""
             }
            },
            "type": "scatter3d"
           }
          ],
          "scattercarpet": [
           {
            "marker": {
             "colorbar": {
              "outlinewidth": 0,
              "ticks": ""
             }
            },
            "type": "scattercarpet"
           }
          ],
          "scattergeo": [
           {
            "marker": {
             "colorbar": {
              "outlinewidth": 0,
              "ticks": ""
             }
            },
            "type": "scattergeo"
           }
          ],
          "scattergl": [
           {
            "marker": {
             "colorbar": {
              "outlinewidth": 0,
              "ticks": ""
             }
            },
            "type": "scattergl"
           }
          ],
          "scattermapbox": [
           {
            "marker": {
             "colorbar": {
              "outlinewidth": 0,
              "ticks": ""
             }
            },
            "type": "scattermapbox"
           }
          ],
          "scatterpolar": [
           {
            "marker": {
             "colorbar": {
              "outlinewidth": 0,
              "ticks": ""
             }
            },
            "type": "scatterpolar"
           }
          ],
          "scatterpolargl": [
           {
            "marker": {
             "colorbar": {
              "outlinewidth": 0,
              "ticks": ""
             }
            },
            "type": "scatterpolargl"
           }
          ],
          "scatterternary": [
           {
            "marker": {
             "colorbar": {
              "outlinewidth": 0,
              "ticks": ""
             }
            },
            "type": "scatterternary"
           }
          ],
          "surface": [
           {
            "colorbar": {
             "outlinewidth": 0,
             "ticks": ""
            },
            "colorscale": [
             [
              0,
              "#0d0887"
             ],
             [
              0.1111111111111111,
              "#46039f"
             ],
             [
              0.2222222222222222,
              "#7201a8"
             ],
             [
              0.3333333333333333,
              "#9c179e"
             ],
             [
              0.4444444444444444,
              "#bd3786"
             ],
             [
              0.5555555555555556,
              "#d8576b"
             ],
             [
              0.6666666666666666,
              "#ed7953"
             ],
             [
              0.7777777777777778,
              "#fb9f3a"
             ],
             [
              0.8888888888888888,
              "#fdca26"
             ],
             [
              1,
              "#f0f921"
             ]
            ],
            "type": "surface"
           }
          ],
          "table": [
           {
            "cells": {
             "fill": {
              "color": "#EBF0F8"
             },
             "line": {
              "color": "white"
             }
            },
            "header": {
             "fill": {
              "color": "#C8D4E3"
             },
             "line": {
              "color": "white"
             }
            },
            "type": "table"
           }
          ]
         },
         "layout": {
          "annotationdefaults": {
           "arrowcolor": "#2a3f5f",
           "arrowhead": 0,
           "arrowwidth": 1
          },
          "autotypenumbers": "strict",
          "coloraxis": {
           "colorbar": {
            "outlinewidth": 0,
            "ticks": ""
           }
          },
          "colorscale": {
           "diverging": [
            [
             0,
             "#8e0152"
            ],
            [
             0.1,
             "#c51b7d"
            ],
            [
             0.2,
             "#de77ae"
            ],
            [
             0.3,
             "#f1b6da"
            ],
            [
             0.4,
             "#fde0ef"
            ],
            [
             0.5,
             "#f7f7f7"
            ],
            [
             0.6,
             "#e6f5d0"
            ],
            [
             0.7,
             "#b8e186"
            ],
            [
             0.8,
             "#7fbc41"
            ],
            [
             0.9,
             "#4d9221"
            ],
            [
             1,
             "#276419"
            ]
           ],
           "sequential": [
            [
             0,
             "#0d0887"
            ],
            [
             0.1111111111111111,
             "#46039f"
            ],
            [
             0.2222222222222222,
             "#7201a8"
            ],
            [
             0.3333333333333333,
             "#9c179e"
            ],
            [
             0.4444444444444444,
             "#bd3786"
            ],
            [
             0.5555555555555556,
             "#d8576b"
            ],
            [
             0.6666666666666666,
             "#ed7953"
            ],
            [
             0.7777777777777778,
             "#fb9f3a"
            ],
            [
             0.8888888888888888,
             "#fdca26"
            ],
            [
             1,
             "#f0f921"
            ]
           ],
           "sequentialminus": [
            [
             0,
             "#0d0887"
            ],
            [
             0.1111111111111111,
             "#46039f"
            ],
            [
             0.2222222222222222,
             "#7201a8"
            ],
            [
             0.3333333333333333,
             "#9c179e"
            ],
            [
             0.4444444444444444,
             "#bd3786"
            ],
            [
             0.5555555555555556,
             "#d8576b"
            ],
            [
             0.6666666666666666,
             "#ed7953"
            ],
            [
             0.7777777777777778,
             "#fb9f3a"
            ],
            [
             0.8888888888888888,
             "#fdca26"
            ],
            [
             1,
             "#f0f921"
            ]
           ]
          },
          "colorway": [
           "#636efa",
           "#EF553B",
           "#00cc96",
           "#ab63fa",
           "#FFA15A",
           "#19d3f3",
           "#FF6692",
           "#B6E880",
           "#FF97FF",
           "#FECB52"
          ],
          "font": {
           "color": "#2a3f5f"
          },
          "geo": {
           "bgcolor": "white",
           "lakecolor": "white",
           "landcolor": "#E5ECF6",
           "showlakes": true,
           "showland": true,
           "subunitcolor": "white"
          },
          "hoverlabel": {
           "align": "left"
          },
          "hovermode": "closest",
          "mapbox": {
           "style": "light"
          },
          "paper_bgcolor": "white",
          "plot_bgcolor": "#E5ECF6",
          "polar": {
           "angularaxis": {
            "gridcolor": "white",
            "linecolor": "white",
            "ticks": ""
           },
           "bgcolor": "#E5ECF6",
           "radialaxis": {
            "gridcolor": "white",
            "linecolor": "white",
            "ticks": ""
           }
          },
          "scene": {
           "xaxis": {
            "backgroundcolor": "#E5ECF6",
            "gridcolor": "white",
            "gridwidth": 2,
            "linecolor": "white",
            "showbackground": true,
            "ticks": "",
            "zerolinecolor": "white"
           },
           "yaxis": {
            "backgroundcolor": "#E5ECF6",
            "gridcolor": "white",
            "gridwidth": 2,
            "linecolor": "white",
            "showbackground": true,
            "ticks": "",
            "zerolinecolor": "white"
           },
           "zaxis": {
            "backgroundcolor": "#E5ECF6",
            "gridcolor": "white",
            "gridwidth": 2,
            "linecolor": "white",
            "showbackground": true,
            "ticks": "",
            "zerolinecolor": "white"
           }
          },
          "shapedefaults": {
           "line": {
            "color": "#2a3f5f"
           }
          },
          "ternary": {
           "aaxis": {
            "gridcolor": "white",
            "linecolor": "white",
            "ticks": ""
           },
           "baxis": {
            "gridcolor": "white",
            "linecolor": "white",
            "ticks": ""
           },
           "bgcolor": "#E5ECF6",
           "caxis": {
            "gridcolor": "white",
            "linecolor": "white",
            "ticks": ""
           }
          },
          "title": {
           "x": 0.05
          },
          "xaxis": {
           "automargin": true,
           "gridcolor": "white",
           "linecolor": "white",
           "ticks": "",
           "title": {
            "standoff": 15
           },
           "zerolinecolor": "white",
           "zerolinewidth": 2
          },
          "yaxis": {
           "automargin": true,
           "gridcolor": "white",
           "linecolor": "white",
           "ticks": "",
           "title": {
            "standoff": 15
           },
           "zerolinecolor": "white",
           "zerolinewidth": 2
          }
         }
        },
        "xaxis": {
         "anchor": "y",
         "domain": [
          0,
          1
         ],
         "title": {
          "text": "short_name"
         }
        },
        "yaxis": {
         "anchor": "x",
         "domain": [
          0,
          1
         ],
         "title": {
          "text": "price"
         }
        }
       }
      }
     },
     "metadata": {},
     "output_type": "display_data"
    }
   ],
   "source": [
    "\n",
    "px.bar(laptops.sort_values(by='price').tail(25),x='short_name',y='price', barmode='overlay', height=800,)"
   ]
  },
  {
   "cell_type": "code",
   "execution_count": 111,
   "metadata": {},
   "outputs": [
    {
     "data": {
      "application/vnd.plotly.v1+json": {
       "config": {
        "plotlyServerURL": "https://plot.ly"
       },
       "data": [
        {
         "alignmentgroup": "True",
         "hovertemplate": "variable=num_rating<br>short_name=%{x}<br>value=%{y}<extra></extra>",
         "legendgroup": "num_rating",
         "marker": {
          "color": "#636efa",
          "opacity": 0.5,
          "pattern": {
           "shape": ""
          }
         },
         "name": "num_rating",
         "offsetgroup": "num_rating",
         "orientation": "v",
         "showlegend": true,
         "textposition": "auto",
         "type": "bar",
         "x": [
          "HP 15s Intel Core i5 12th...",
          "HP 15s Intel Core i5 12th...",
          "HP 15s Intel Core i5 12th...",
          "HP 15s Intel Core i5 12th...",
          "HP 15s Intel Core i5 12th...",
          "HP 15s Intel Core i5 12th...",
          "HP 15s Intel Core i5 12th...",
          "HP 15s Intel Core i5 12th...",
          "HP 15s Intel Core i5 12th...",
          "HP 15s Intel Core i5 12th...",
          "HP 15s Intel Core i5 12th...",
          "HP 14s Intel Core i3 11th...",
          "HP 14s Intel Core i3 11th...",
          "HP Ryzen 5 Hexa Core 5500...",
          "ASUS VivoBook 15 Ryzen 3 ...",
          "ASUS VivoBook 14 Core i5 ...",
          "ASUS VivoBook 15 Core i3 ...",
          "HP Ryzen 3 Quad Core 5300...",
          "HP HP Pavilion Ryzen 5 He...",
          "Lenovo Ideapad Gaming 3 R...",
          "Lenovo Ideapad Gaming 3 R...",
          "Infinix INBook Y1 Plus In...",
          "Infinix INBook Y1 Plus In...",
          "Infinix INBook Y1 Plus In...",
          "Lenovo IdeaPad Gaming 3 I...",
          "Lenovo IdeaPad Gaming 3 I...",
          "HP Ryzen 3 Quad Core 5300...",
          "ASUS VivoBook 14 Ryzen 3 ...",
          "ASUS Chromebook Flip Touc...",
          "MSI Bravo 15 Ryzen 5 Hexa...",
          "MSI Bravo 15 Ryzen 5 Hexa...",
          "HP 14s Intel Core i3 11th...",
          "HP 14s Intel Core i3 11th...",
          "acer Aspire 7 Core i5 12t...",
          "acer Aspire 7 Core i5 12t...",
          "Lenovo IdeaPad 3 Intel Co...",
          "Infinix INBook X1 Neo Ser...",
          "ASUS VivoBook 15 Core i5 ...",
          "acer Aspire 7 Ryzen 5 Hex...",
          "APPLE 2020 Macbook Air M1...",
          "APPLE 2020 Macbook Air M1...",
          "APPLE 2020 Macbook Air M1...",
          "HP 15s Ryzen 3 Dual Core ...",
          "realme Book Intel Evo Cor...",
          "realme Book Intel Evo Cor...",
          "ASUS VivoBook 15 Core i3 ...",
          "ASUS VivoBook 15 Core i3 ...",
          "acer Aspire 7 Core i5 10t...",
          "realme Book Core i3 11th ...",
          "realme Book Core i3 11th ..."
         ],
         "xaxis": "x",
         "y": [
          2736,
          2736,
          2736,
          2736,
          2736,
          2736,
          2736,
          2736,
          2736,
          2736,
          2736,
          2410,
          2410,
          2208,
          1661,
          1971,
          1882,
          2205,
          2532,
          1765,
          1765,
          1559,
          1559,
          1559,
          3031,
          3031,
          2239,
          2823,
          2481,
          2691,
          2691,
          4166,
          4166,
          3492,
          3492,
          5132,
          3728,
          6452,
          5764,
          9612,
          9612,
          9612,
          7582,
          7495,
          7495,
          11556,
          11556,
          13435,
          13080,
          13080
         ],
         "yaxis": "y"
        },
        {
         "alignmentgroup": "True",
         "hovertemplate": "variable=num_reviews<br>short_name=%{x}<br>value=%{y}<extra></extra>",
         "legendgroup": "num_reviews",
         "marker": {
          "color": "#EF553B",
          "opacity": 0.5,
          "pattern": {
           "shape": ""
          }
         },
         "name": "num_reviews",
         "offsetgroup": "num_reviews",
         "orientation": "v",
         "showlegend": true,
         "textposition": "auto",
         "type": "bar",
         "x": [
          "HP 15s Intel Core i5 12th...",
          "HP 15s Intel Core i5 12th...",
          "HP 15s Intel Core i5 12th...",
          "HP 15s Intel Core i5 12th...",
          "HP 15s Intel Core i5 12th...",
          "HP 15s Intel Core i5 12th...",
          "HP 15s Intel Core i5 12th...",
          "HP 15s Intel Core i5 12th...",
          "HP 15s Intel Core i5 12th...",
          "HP 15s Intel Core i5 12th...",
          "HP 15s Intel Core i5 12th...",
          "HP 14s Intel Core i3 11th...",
          "HP 14s Intel Core i3 11th...",
          "HP Ryzen 5 Hexa Core 5500...",
          "ASUS VivoBook 15 Ryzen 3 ...",
          "ASUS VivoBook 14 Core i5 ...",
          "ASUS VivoBook 15 Core i3 ...",
          "HP Ryzen 3 Quad Core 5300...",
          "HP HP Pavilion Ryzen 5 He...",
          "Lenovo Ideapad Gaming 3 R...",
          "Lenovo Ideapad Gaming 3 R...",
          "Infinix INBook Y1 Plus In...",
          "Infinix INBook Y1 Plus In...",
          "Infinix INBook Y1 Plus In...",
          "Lenovo IdeaPad Gaming 3 I...",
          "Lenovo IdeaPad Gaming 3 I...",
          "HP Ryzen 3 Quad Core 5300...",
          "ASUS VivoBook 14 Ryzen 3 ...",
          "ASUS Chromebook Flip Touc...",
          "MSI Bravo 15 Ryzen 5 Hexa...",
          "MSI Bravo 15 Ryzen 5 Hexa...",
          "HP 14s Intel Core i3 11th...",
          "HP 14s Intel Core i3 11th...",
          "acer Aspire 7 Core i5 12t...",
          "acer Aspire 7 Core i5 12t...",
          "Lenovo IdeaPad 3 Intel Co...",
          "Infinix INBook X1 Neo Ser...",
          "ASUS VivoBook 15 Core i5 ...",
          "acer Aspire 7 Ryzen 5 Hex...",
          "APPLE 2020 Macbook Air M1...",
          "APPLE 2020 Macbook Air M1...",
          "APPLE 2020 Macbook Air M1...",
          "HP 15s Ryzen 3 Dual Core ...",
          "realme Book Intel Evo Cor...",
          "realme Book Intel Evo Cor...",
          "ASUS VivoBook 15 Core i3 ...",
          "ASUS VivoBook 15 Core i3 ...",
          "acer Aspire 7 Core i5 10t...",
          "realme Book Core i3 11th ...",
          "realme Book Core i3 11th ..."
         ],
         "xaxis": "x",
         "y": [
          207,
          207,
          207,
          207,
          207,
          207,
          207,
          207,
          207,
          207,
          207,
          208,
          208,
          220,
          226,
          226,
          230,
          240,
          241,
          254,
          254,
          256,
          256,
          256,
          265,
          265,
          281,
          322,
          351,
          357,
          357,
          364,
          364,
          380,
          380,
          478,
          527,
          543,
          685,
          853,
          853,
          853,
          933,
          994,
          994,
          1131,
          1131,
          1433,
          1914,
          1914
         ],
         "yaxis": "y"
        }
       ],
       "layout": {
        "barmode": "overlay",
        "height": 800,
        "legend": {
         "title": {
          "text": "variable"
         },
         "tracegroupgap": 0
        },
        "margin": {
         "t": 60
        },
        "template": {
         "data": {
          "bar": [
           {
            "error_x": {
             "color": "#2a3f5f"
            },
            "error_y": {
             "color": "#2a3f5f"
            },
            "marker": {
             "line": {
              "color": "#E5ECF6",
              "width": 0.5
             },
             "pattern": {
              "fillmode": "overlay",
              "size": 10,
              "solidity": 0.2
             }
            },
            "type": "bar"
           }
          ],
          "barpolar": [
           {
            "marker": {
             "line": {
              "color": "#E5ECF6",
              "width": 0.5
             },
             "pattern": {
              "fillmode": "overlay",
              "size": 10,
              "solidity": 0.2
             }
            },
            "type": "barpolar"
           }
          ],
          "carpet": [
           {
            "aaxis": {
             "endlinecolor": "#2a3f5f",
             "gridcolor": "white",
             "linecolor": "white",
             "minorgridcolor": "white",
             "startlinecolor": "#2a3f5f"
            },
            "baxis": {
             "endlinecolor": "#2a3f5f",
             "gridcolor": "white",
             "linecolor": "white",
             "minorgridcolor": "white",
             "startlinecolor": "#2a3f5f"
            },
            "type": "carpet"
           }
          ],
          "choropleth": [
           {
            "colorbar": {
             "outlinewidth": 0,
             "ticks": ""
            },
            "type": "choropleth"
           }
          ],
          "contour": [
           {
            "colorbar": {
             "outlinewidth": 0,
             "ticks": ""
            },
            "colorscale": [
             [
              0,
              "#0d0887"
             ],
             [
              0.1111111111111111,
              "#46039f"
             ],
             [
              0.2222222222222222,
              "#7201a8"
             ],
             [
              0.3333333333333333,
              "#9c179e"
             ],
             [
              0.4444444444444444,
              "#bd3786"
             ],
             [
              0.5555555555555556,
              "#d8576b"
             ],
             [
              0.6666666666666666,
              "#ed7953"
             ],
             [
              0.7777777777777778,
              "#fb9f3a"
             ],
             [
              0.8888888888888888,
              "#fdca26"
             ],
             [
              1,
              "#f0f921"
             ]
            ],
            "type": "contour"
           }
          ],
          "contourcarpet": [
           {
            "colorbar": {
             "outlinewidth": 0,
             "ticks": ""
            },
            "type": "contourcarpet"
           }
          ],
          "heatmap": [
           {
            "colorbar": {
             "outlinewidth": 0,
             "ticks": ""
            },
            "colorscale": [
             [
              0,
              "#0d0887"
             ],
             [
              0.1111111111111111,
              "#46039f"
             ],
             [
              0.2222222222222222,
              "#7201a8"
             ],
             [
              0.3333333333333333,
              "#9c179e"
             ],
             [
              0.4444444444444444,
              "#bd3786"
             ],
             [
              0.5555555555555556,
              "#d8576b"
             ],
             [
              0.6666666666666666,
              "#ed7953"
             ],
             [
              0.7777777777777778,
              "#fb9f3a"
             ],
             [
              0.8888888888888888,
              "#fdca26"
             ],
             [
              1,
              "#f0f921"
             ]
            ],
            "type": "heatmap"
           }
          ],
          "heatmapgl": [
           {
            "colorbar": {
             "outlinewidth": 0,
             "ticks": ""
            },
            "colorscale": [
             [
              0,
              "#0d0887"
             ],
             [
              0.1111111111111111,
              "#46039f"
             ],
             [
              0.2222222222222222,
              "#7201a8"
             ],
             [
              0.3333333333333333,
              "#9c179e"
             ],
             [
              0.4444444444444444,
              "#bd3786"
             ],
             [
              0.5555555555555556,
              "#d8576b"
             ],
             [
              0.6666666666666666,
              "#ed7953"
             ],
             [
              0.7777777777777778,
              "#fb9f3a"
             ],
             [
              0.8888888888888888,
              "#fdca26"
             ],
             [
              1,
              "#f0f921"
             ]
            ],
            "type": "heatmapgl"
           }
          ],
          "histogram": [
           {
            "marker": {
             "pattern": {
              "fillmode": "overlay",
              "size": 10,
              "solidity": 0.2
             }
            },
            "type": "histogram"
           }
          ],
          "histogram2d": [
           {
            "colorbar": {
             "outlinewidth": 0,
             "ticks": ""
            },
            "colorscale": [
             [
              0,
              "#0d0887"
             ],
             [
              0.1111111111111111,
              "#46039f"
             ],
             [
              0.2222222222222222,
              "#7201a8"
             ],
             [
              0.3333333333333333,
              "#9c179e"
             ],
             [
              0.4444444444444444,
              "#bd3786"
             ],
             [
              0.5555555555555556,
              "#d8576b"
             ],
             [
              0.6666666666666666,
              "#ed7953"
             ],
             [
              0.7777777777777778,
              "#fb9f3a"
             ],
             [
              0.8888888888888888,
              "#fdca26"
             ],
             [
              1,
              "#f0f921"
             ]
            ],
            "type": "histogram2d"
           }
          ],
          "histogram2dcontour": [
           {
            "colorbar": {
             "outlinewidth": 0,
             "ticks": ""
            },
            "colorscale": [
             [
              0,
              "#0d0887"
             ],
             [
              0.1111111111111111,
              "#46039f"
             ],
             [
              0.2222222222222222,
              "#7201a8"
             ],
             [
              0.3333333333333333,
              "#9c179e"
             ],
             [
              0.4444444444444444,
              "#bd3786"
             ],
             [
              0.5555555555555556,
              "#d8576b"
             ],
             [
              0.6666666666666666,
              "#ed7953"
             ],
             [
              0.7777777777777778,
              "#fb9f3a"
             ],
             [
              0.8888888888888888,
              "#fdca26"
             ],
             [
              1,
              "#f0f921"
             ]
            ],
            "type": "histogram2dcontour"
           }
          ],
          "mesh3d": [
           {
            "colorbar": {
             "outlinewidth": 0,
             "ticks": ""
            },
            "type": "mesh3d"
           }
          ],
          "parcoords": [
           {
            "line": {
             "colorbar": {
              "outlinewidth": 0,
              "ticks": ""
             }
            },
            "type": "parcoords"
           }
          ],
          "pie": [
           {
            "automargin": true,
            "type": "pie"
           }
          ],
          "scatter": [
           {
            "fillpattern": {
             "fillmode": "overlay",
             "size": 10,
             "solidity": 0.2
            },
            "type": "scatter"
           }
          ],
          "scatter3d": [
           {
            "line": {
             "colorbar": {
              "outlinewidth": 0,
              "ticks": ""
             }
            },
            "marker": {
             "colorbar": {
              "outlinewidth": 0,
              "ticks": ""
             }
            },
            "type": "scatter3d"
           }
          ],
          "scattercarpet": [
           {
            "marker": {
             "colorbar": {
              "outlinewidth": 0,
              "ticks": ""
             }
            },
            "type": "scattercarpet"
           }
          ],
          "scattergeo": [
           {
            "marker": {
             "colorbar": {
              "outlinewidth": 0,
              "ticks": ""
             }
            },
            "type": "scattergeo"
           }
          ],
          "scattergl": [
           {
            "marker": {
             "colorbar": {
              "outlinewidth": 0,
              "ticks": ""
             }
            },
            "type": "scattergl"
           }
          ],
          "scattermapbox": [
           {
            "marker": {
             "colorbar": {
              "outlinewidth": 0,
              "ticks": ""
             }
            },
            "type": "scattermapbox"
           }
          ],
          "scatterpolar": [
           {
            "marker": {
             "colorbar": {
              "outlinewidth": 0,
              "ticks": ""
             }
            },
            "type": "scatterpolar"
           }
          ],
          "scatterpolargl": [
           {
            "marker": {
             "colorbar": {
              "outlinewidth": 0,
              "ticks": ""
             }
            },
            "type": "scatterpolargl"
           }
          ],
          "scatterternary": [
           {
            "marker": {
             "colorbar": {
              "outlinewidth": 0,
              "ticks": ""
             }
            },
            "type": "scatterternary"
           }
          ],
          "surface": [
           {
            "colorbar": {
             "outlinewidth": 0,
             "ticks": ""
            },
            "colorscale": [
             [
              0,
              "#0d0887"
             ],
             [
              0.1111111111111111,
              "#46039f"
             ],
             [
              0.2222222222222222,
              "#7201a8"
             ],
             [
              0.3333333333333333,
              "#9c179e"
             ],
             [
              0.4444444444444444,
              "#bd3786"
             ],
             [
              0.5555555555555556,
              "#d8576b"
             ],
             [
              0.6666666666666666,
              "#ed7953"
             ],
             [
              0.7777777777777778,
              "#fb9f3a"
             ],
             [
              0.8888888888888888,
              "#fdca26"
             ],
             [
              1,
              "#f0f921"
             ]
            ],
            "type": "surface"
           }
          ],
          "table": [
           {
            "cells": {
             "fill": {
              "color": "#EBF0F8"
             },
             "line": {
              "color": "white"
             }
            },
            "header": {
             "fill": {
              "color": "#C8D4E3"
             },
             "line": {
              "color": "white"
             }
            },
            "type": "table"
           }
          ]
         },
         "layout": {
          "annotationdefaults": {
           "arrowcolor": "#2a3f5f",
           "arrowhead": 0,
           "arrowwidth": 1
          },
          "autotypenumbers": "strict",
          "coloraxis": {
           "colorbar": {
            "outlinewidth": 0,
            "ticks": ""
           }
          },
          "colorscale": {
           "diverging": [
            [
             0,
             "#8e0152"
            ],
            [
             0.1,
             "#c51b7d"
            ],
            [
             0.2,
             "#de77ae"
            ],
            [
             0.3,
             "#f1b6da"
            ],
            [
             0.4,
             "#fde0ef"
            ],
            [
             0.5,
             "#f7f7f7"
            ],
            [
             0.6,
             "#e6f5d0"
            ],
            [
             0.7,
             "#b8e186"
            ],
            [
             0.8,
             "#7fbc41"
            ],
            [
             0.9,
             "#4d9221"
            ],
            [
             1,
             "#276419"
            ]
           ],
           "sequential": [
            [
             0,
             "#0d0887"
            ],
            [
             0.1111111111111111,
             "#46039f"
            ],
            [
             0.2222222222222222,
             "#7201a8"
            ],
            [
             0.3333333333333333,
             "#9c179e"
            ],
            [
             0.4444444444444444,
             "#bd3786"
            ],
            [
             0.5555555555555556,
             "#d8576b"
            ],
            [
             0.6666666666666666,
             "#ed7953"
            ],
            [
             0.7777777777777778,
             "#fb9f3a"
            ],
            [
             0.8888888888888888,
             "#fdca26"
            ],
            [
             1,
             "#f0f921"
            ]
           ],
           "sequentialminus": [
            [
             0,
             "#0d0887"
            ],
            [
             0.1111111111111111,
             "#46039f"
            ],
            [
             0.2222222222222222,
             "#7201a8"
            ],
            [
             0.3333333333333333,
             "#9c179e"
            ],
            [
             0.4444444444444444,
             "#bd3786"
            ],
            [
             0.5555555555555556,
             "#d8576b"
            ],
            [
             0.6666666666666666,
             "#ed7953"
            ],
            [
             0.7777777777777778,
             "#fb9f3a"
            ],
            [
             0.8888888888888888,
             "#fdca26"
            ],
            [
             1,
             "#f0f921"
            ]
           ]
          },
          "colorway": [
           "#636efa",
           "#EF553B",
           "#00cc96",
           "#ab63fa",
           "#FFA15A",
           "#19d3f3",
           "#FF6692",
           "#B6E880",
           "#FF97FF",
           "#FECB52"
          ],
          "font": {
           "color": "#2a3f5f"
          },
          "geo": {
           "bgcolor": "white",
           "lakecolor": "white",
           "landcolor": "#E5ECF6",
           "showlakes": true,
           "showland": true,
           "subunitcolor": "white"
          },
          "hoverlabel": {
           "align": "left"
          },
          "hovermode": "closest",
          "mapbox": {
           "style": "light"
          },
          "paper_bgcolor": "white",
          "plot_bgcolor": "#E5ECF6",
          "polar": {
           "angularaxis": {
            "gridcolor": "white",
            "linecolor": "white",
            "ticks": ""
           },
           "bgcolor": "#E5ECF6",
           "radialaxis": {
            "gridcolor": "white",
            "linecolor": "white",
            "ticks": ""
           }
          },
          "scene": {
           "xaxis": {
            "backgroundcolor": "#E5ECF6",
            "gridcolor": "white",
            "gridwidth": 2,
            "linecolor": "white",
            "showbackground": true,
            "ticks": "",
            "zerolinecolor": "white"
           },
           "yaxis": {
            "backgroundcolor": "#E5ECF6",
            "gridcolor": "white",
            "gridwidth": 2,
            "linecolor": "white",
            "showbackground": true,
            "ticks": "",
            "zerolinecolor": "white"
           },
           "zaxis": {
            "backgroundcolor": "#E5ECF6",
            "gridcolor": "white",
            "gridwidth": 2,
            "linecolor": "white",
            "showbackground": true,
            "ticks": "",
            "zerolinecolor": "white"
           }
          },
          "shapedefaults": {
           "line": {
            "color": "#2a3f5f"
           }
          },
          "ternary": {
           "aaxis": {
            "gridcolor": "white",
            "linecolor": "white",
            "ticks": ""
           },
           "baxis": {
            "gridcolor": "white",
            "linecolor": "white",
            "ticks": ""
           },
           "bgcolor": "#E5ECF6",
           "caxis": {
            "gridcolor": "white",
            "linecolor": "white",
            "ticks": ""
           }
          },
          "title": {
           "x": 0.05
          },
          "xaxis": {
           "automargin": true,
           "gridcolor": "white",
           "linecolor": "white",
           "ticks": "",
           "title": {
            "standoff": 15
           },
           "zerolinecolor": "white",
           "zerolinewidth": 2
          },
          "yaxis": {
           "automargin": true,
           "gridcolor": "white",
           "linecolor": "white",
           "ticks": "",
           "title": {
            "standoff": 15
           },
           "zerolinecolor": "white",
           "zerolinewidth": 2
          }
         }
        },
        "xaxis": {
         "anchor": "y",
         "domain": [
          0,
          1
         ],
         "title": {
          "text": "short_name"
         }
        },
        "yaxis": {
         "anchor": "x",
         "domain": [
          0,
          1
         ],
         "title": {
          "text": "value"
         }
        }
       }
      }
     },
     "metadata": {},
     "output_type": "display_data"
    }
   ],
   "source": [
    "\n",
    "px.bar(laptops.sort_values(by='num_reviews').tail(50),x='short_name',y=['num_rating','num_reviews'], barmode='overlay', height=800,)"
   ]
  },
  {
   "cell_type": "code",
   "execution_count": 112,
   "metadata": {},
   "outputs": [
    {
     "data": {
      "application/vnd.plotly.v1+json": {
       "config": {
        "plotlyServerURL": "https://plot.ly"
       },
       "data": [
        {
         "alignmentgroup": "True",
         "hovertemplate": "short_name=%{x}<br>num_rating=%{y}<extra></extra>",
         "legendgroup": "",
         "marker": {
          "color": "#636efa",
          "opacity": 0.5,
          "pattern": {
           "shape": ""
          }
         },
         "name": "",
         "offsetgroup": "",
         "orientation": "v",
         "showlegend": false,
         "textposition": "auto",
         "type": "bar",
         "x": [
          "HP 15s Intel Core i5 12th...",
          "HP 15s Intel Core i5 12th...",
          "HP 15s Intel Core i5 12th...",
          "HP 15s Intel Core i5 12th...",
          "HP 15s Intel Core i5 12th...",
          "HP 15s Intel Core i5 12th...",
          "HP 15s Intel Core i5 12th...",
          "HP 15s Intel Core i5 12th...",
          "HP 15s Intel Core i5 12th...",
          "HP 15s Intel Core i5 12th...",
          "HP 15s Intel Core i5 12th...",
          "HP 15s Intel Core i5 12th...",
          "HP 15s Intel Core i5 12th...",
          "HP 15s Intel Core i5 12th...",
          "HP 15s Intel Core i5 12th...",
          "HP 15s Intel Core i5 12th...",
          "HP 15s Intel Core i5 12th...",
          "HP 15s Intel Core i5 12th...",
          "HP 15s Intel Core i5 12th...",
          "HP 15s Intel Core i5 12th...",
          "HP 15s Intel Core i5 12th...",
          "HP 15s Intel Core i5 12th...",
          "HP 15s Intel Core i5 12th...",
          "HP 15s Intel Core i5 12th...",
          "HP 15s Intel Core i5 12th...",
          "HP 15s Intel Core i5 12th...",
          "HP 15s Intel Core i5 12th...",
          "HP 15s Intel Core i5 12th...",
          "ASUS VivoBook 14 Ryzen 3 ...",
          "Lenovo IdeaPad Gaming 3 I...",
          "Lenovo IdeaPad Gaming 3 I...",
          "acer Aspire 7 Core i5 12t...",
          "acer Aspire 7 Core i5 12t...",
          "Infinix INBook X1 Neo Ser...",
          "HP 14s Intel Core i3 11th...",
          "HP 14s Intel Core i3 11th...",
          "Lenovo IdeaPad 3 Intel Co...",
          "acer Aspire 7 Ryzen 5 Hex...",
          "ASUS VivoBook 15 Core i5 ...",
          "realme Book Intel Evo Cor...",
          "realme Book Intel Evo Cor...",
          "HP 15s Ryzen 3 Dual Core ...",
          "APPLE 2020 Macbook Air M1...",
          "APPLE 2020 Macbook Air M1...",
          "APPLE 2020 Macbook Air M1...",
          "ASUS VivoBook 15 Core i3 ...",
          "ASUS VivoBook 15 Core i3 ...",
          "realme Book Core i3 11th ...",
          "realme Book Core i3 11th ...",
          "acer Aspire 7 Core i5 10t..."
         ],
         "xaxis": "x",
         "y": [
          2736,
          2736,
          2736,
          2736,
          2736,
          2736,
          2736,
          2736,
          2736,
          2736,
          2736,
          2736,
          2736,
          2736,
          2736,
          2736,
          2736,
          2736,
          2736,
          2736,
          2736,
          2736,
          2736,
          2736,
          2736,
          2736,
          2736,
          2736,
          2823,
          3031,
          3031,
          3492,
          3492,
          3728,
          4166,
          4166,
          5132,
          5764,
          6452,
          7495,
          7495,
          7582,
          9612,
          9612,
          9612,
          11556,
          11556,
          13080,
          13080,
          13435
         ],
         "yaxis": "y"
        }
       ],
       "layout": {
        "barmode": "overlay",
        "height": 800,
        "legend": {
         "tracegroupgap": 0
        },
        "margin": {
         "t": 60
        },
        "template": {
         "data": {
          "bar": [
           {
            "error_x": {
             "color": "#2a3f5f"
            },
            "error_y": {
             "color": "#2a3f5f"
            },
            "marker": {
             "line": {
              "color": "#E5ECF6",
              "width": 0.5
             },
             "pattern": {
              "fillmode": "overlay",
              "size": 10,
              "solidity": 0.2
             }
            },
            "type": "bar"
           }
          ],
          "barpolar": [
           {
            "marker": {
             "line": {
              "color": "#E5ECF6",
              "width": 0.5
             },
             "pattern": {
              "fillmode": "overlay",
              "size": 10,
              "solidity": 0.2
             }
            },
            "type": "barpolar"
           }
          ],
          "carpet": [
           {
            "aaxis": {
             "endlinecolor": "#2a3f5f",
             "gridcolor": "white",
             "linecolor": "white",
             "minorgridcolor": "white",
             "startlinecolor": "#2a3f5f"
            },
            "baxis": {
             "endlinecolor": "#2a3f5f",
             "gridcolor": "white",
             "linecolor": "white",
             "minorgridcolor": "white",
             "startlinecolor": "#2a3f5f"
            },
            "type": "carpet"
           }
          ],
          "choropleth": [
           {
            "colorbar": {
             "outlinewidth": 0,
             "ticks": ""
            },
            "type": "choropleth"
           }
          ],
          "contour": [
           {
            "colorbar": {
             "outlinewidth": 0,
             "ticks": ""
            },
            "colorscale": [
             [
              0,
              "#0d0887"
             ],
             [
              0.1111111111111111,
              "#46039f"
             ],
             [
              0.2222222222222222,
              "#7201a8"
             ],
             [
              0.3333333333333333,
              "#9c179e"
             ],
             [
              0.4444444444444444,
              "#bd3786"
             ],
             [
              0.5555555555555556,
              "#d8576b"
             ],
             [
              0.6666666666666666,
              "#ed7953"
             ],
             [
              0.7777777777777778,
              "#fb9f3a"
             ],
             [
              0.8888888888888888,
              "#fdca26"
             ],
             [
              1,
              "#f0f921"
             ]
            ],
            "type": "contour"
           }
          ],
          "contourcarpet": [
           {
            "colorbar": {
             "outlinewidth": 0,
             "ticks": ""
            },
            "type": "contourcarpet"
           }
          ],
          "heatmap": [
           {
            "colorbar": {
             "outlinewidth": 0,
             "ticks": ""
            },
            "colorscale": [
             [
              0,
              "#0d0887"
             ],
             [
              0.1111111111111111,
              "#46039f"
             ],
             [
              0.2222222222222222,
              "#7201a8"
             ],
             [
              0.3333333333333333,
              "#9c179e"
             ],
             [
              0.4444444444444444,
              "#bd3786"
             ],
             [
              0.5555555555555556,
              "#d8576b"
             ],
             [
              0.6666666666666666,
              "#ed7953"
             ],
             [
              0.7777777777777778,
              "#fb9f3a"
             ],
             [
              0.8888888888888888,
              "#fdca26"
             ],
             [
              1,
              "#f0f921"
             ]
            ],
            "type": "heatmap"
           }
          ],
          "heatmapgl": [
           {
            "colorbar": {
             "outlinewidth": 0,
             "ticks": ""
            },
            "colorscale": [
             [
              0,
              "#0d0887"
             ],
             [
              0.1111111111111111,
              "#46039f"
             ],
             [
              0.2222222222222222,
              "#7201a8"
             ],
             [
              0.3333333333333333,
              "#9c179e"
             ],
             [
              0.4444444444444444,
              "#bd3786"
             ],
             [
              0.5555555555555556,
              "#d8576b"
             ],
             [
              0.6666666666666666,
              "#ed7953"
             ],
             [
              0.7777777777777778,
              "#fb9f3a"
             ],
             [
              0.8888888888888888,
              "#fdca26"
             ],
             [
              1,
              "#f0f921"
             ]
            ],
            "type": "heatmapgl"
           }
          ],
          "histogram": [
           {
            "marker": {
             "pattern": {
              "fillmode": "overlay",
              "size": 10,
              "solidity": 0.2
             }
            },
            "type": "histogram"
           }
          ],
          "histogram2d": [
           {
            "colorbar": {
             "outlinewidth": 0,
             "ticks": ""
            },
            "colorscale": [
             [
              0,
              "#0d0887"
             ],
             [
              0.1111111111111111,
              "#46039f"
             ],
             [
              0.2222222222222222,
              "#7201a8"
             ],
             [
              0.3333333333333333,
              "#9c179e"
             ],
             [
              0.4444444444444444,
              "#bd3786"
             ],
             [
              0.5555555555555556,
              "#d8576b"
             ],
             [
              0.6666666666666666,
              "#ed7953"
             ],
             [
              0.7777777777777778,
              "#fb9f3a"
             ],
             [
              0.8888888888888888,
              "#fdca26"
             ],
             [
              1,
              "#f0f921"
             ]
            ],
            "type": "histogram2d"
           }
          ],
          "histogram2dcontour": [
           {
            "colorbar": {
             "outlinewidth": 0,
             "ticks": ""
            },
            "colorscale": [
             [
              0,
              "#0d0887"
             ],
             [
              0.1111111111111111,
              "#46039f"
             ],
             [
              0.2222222222222222,
              "#7201a8"
             ],
             [
              0.3333333333333333,
              "#9c179e"
             ],
             [
              0.4444444444444444,
              "#bd3786"
             ],
             [
              0.5555555555555556,
              "#d8576b"
             ],
             [
              0.6666666666666666,
              "#ed7953"
             ],
             [
              0.7777777777777778,
              "#fb9f3a"
             ],
             [
              0.8888888888888888,
              "#fdca26"
             ],
             [
              1,
              "#f0f921"
             ]
            ],
            "type": "histogram2dcontour"
           }
          ],
          "mesh3d": [
           {
            "colorbar": {
             "outlinewidth": 0,
             "ticks": ""
            },
            "type": "mesh3d"
           }
          ],
          "parcoords": [
           {
            "line": {
             "colorbar": {
              "outlinewidth": 0,
              "ticks": ""
             }
            },
            "type": "parcoords"
           }
          ],
          "pie": [
           {
            "automargin": true,
            "type": "pie"
           }
          ],
          "scatter": [
           {
            "fillpattern": {
             "fillmode": "overlay",
             "size": 10,
             "solidity": 0.2
            },
            "type": "scatter"
           }
          ],
          "scatter3d": [
           {
            "line": {
             "colorbar": {
              "outlinewidth": 0,
              "ticks": ""
             }
            },
            "marker": {
             "colorbar": {
              "outlinewidth": 0,
              "ticks": ""
             }
            },
            "type": "scatter3d"
           }
          ],
          "scattercarpet": [
           {
            "marker": {
             "colorbar": {
              "outlinewidth": 0,
              "ticks": ""
             }
            },
            "type": "scattercarpet"
           }
          ],
          "scattergeo": [
           {
            "marker": {
             "colorbar": {
              "outlinewidth": 0,
              "ticks": ""
             }
            },
            "type": "scattergeo"
           }
          ],
          "scattergl": [
           {
            "marker": {
             "colorbar": {
              "outlinewidth": 0,
              "ticks": ""
             }
            },
            "type": "scattergl"
           }
          ],
          "scattermapbox": [
           {
            "marker": {
             "colorbar": {
              "outlinewidth": 0,
              "ticks": ""
             }
            },
            "type": "scattermapbox"
           }
          ],
          "scatterpolar": [
           {
            "marker": {
             "colorbar": {
              "outlinewidth": 0,
              "ticks": ""
             }
            },
            "type": "scatterpolar"
           }
          ],
          "scatterpolargl": [
           {
            "marker": {
             "colorbar": {
              "outlinewidth": 0,
              "ticks": ""
             }
            },
            "type": "scatterpolargl"
           }
          ],
          "scatterternary": [
           {
            "marker": {
             "colorbar": {
              "outlinewidth": 0,
              "ticks": ""
             }
            },
            "type": "scatterternary"
           }
          ],
          "surface": [
           {
            "colorbar": {
             "outlinewidth": 0,
             "ticks": ""
            },
            "colorscale": [
             [
              0,
              "#0d0887"
             ],
             [
              0.1111111111111111,
              "#46039f"
             ],
             [
              0.2222222222222222,
              "#7201a8"
             ],
             [
              0.3333333333333333,
              "#9c179e"
             ],
             [
              0.4444444444444444,
              "#bd3786"
             ],
             [
              0.5555555555555556,
              "#d8576b"
             ],
             [
              0.6666666666666666,
              "#ed7953"
             ],
             [
              0.7777777777777778,
              "#fb9f3a"
             ],
             [
              0.8888888888888888,
              "#fdca26"
             ],
             [
              1,
              "#f0f921"
             ]
            ],
            "type": "surface"
           }
          ],
          "table": [
           {
            "cells": {
             "fill": {
              "color": "#EBF0F8"
             },
             "line": {
              "color": "white"
             }
            },
            "header": {
             "fill": {
              "color": "#C8D4E3"
             },
             "line": {
              "color": "white"
             }
            },
            "type": "table"
           }
          ]
         },
         "layout": {
          "annotationdefaults": {
           "arrowcolor": "#2a3f5f",
           "arrowhead": 0,
           "arrowwidth": 1
          },
          "autotypenumbers": "strict",
          "coloraxis": {
           "colorbar": {
            "outlinewidth": 0,
            "ticks": ""
           }
          },
          "colorscale": {
           "diverging": [
            [
             0,
             "#8e0152"
            ],
            [
             0.1,
             "#c51b7d"
            ],
            [
             0.2,
             "#de77ae"
            ],
            [
             0.3,
             "#f1b6da"
            ],
            [
             0.4,
             "#fde0ef"
            ],
            [
             0.5,
             "#f7f7f7"
            ],
            [
             0.6,
             "#e6f5d0"
            ],
            [
             0.7,
             "#b8e186"
            ],
            [
             0.8,
             "#7fbc41"
            ],
            [
             0.9,
             "#4d9221"
            ],
            [
             1,
             "#276419"
            ]
           ],
           "sequential": [
            [
             0,
             "#0d0887"
            ],
            [
             0.1111111111111111,
             "#46039f"
            ],
            [
             0.2222222222222222,
             "#7201a8"
            ],
            [
             0.3333333333333333,
             "#9c179e"
            ],
            [
             0.4444444444444444,
             "#bd3786"
            ],
            [
             0.5555555555555556,
             "#d8576b"
            ],
            [
             0.6666666666666666,
             "#ed7953"
            ],
            [
             0.7777777777777778,
             "#fb9f3a"
            ],
            [
             0.8888888888888888,
             "#fdca26"
            ],
            [
             1,
             "#f0f921"
            ]
           ],
           "sequentialminus": [
            [
             0,
             "#0d0887"
            ],
            [
             0.1111111111111111,
             "#46039f"
            ],
            [
             0.2222222222222222,
             "#7201a8"
            ],
            [
             0.3333333333333333,
             "#9c179e"
            ],
            [
             0.4444444444444444,
             "#bd3786"
            ],
            [
             0.5555555555555556,
             "#d8576b"
            ],
            [
             0.6666666666666666,
             "#ed7953"
            ],
            [
             0.7777777777777778,
             "#fb9f3a"
            ],
            [
             0.8888888888888888,
             "#fdca26"
            ],
            [
             1,
             "#f0f921"
            ]
           ]
          },
          "colorway": [
           "#636efa",
           "#EF553B",
           "#00cc96",
           "#ab63fa",
           "#FFA15A",
           "#19d3f3",
           "#FF6692",
           "#B6E880",
           "#FF97FF",
           "#FECB52"
          ],
          "font": {
           "color": "#2a3f5f"
          },
          "geo": {
           "bgcolor": "white",
           "lakecolor": "white",
           "landcolor": "#E5ECF6",
           "showlakes": true,
           "showland": true,
           "subunitcolor": "white"
          },
          "hoverlabel": {
           "align": "left"
          },
          "hovermode": "closest",
          "mapbox": {
           "style": "light"
          },
          "paper_bgcolor": "white",
          "plot_bgcolor": "#E5ECF6",
          "polar": {
           "angularaxis": {
            "gridcolor": "white",
            "linecolor": "white",
            "ticks": ""
           },
           "bgcolor": "#E5ECF6",
           "radialaxis": {
            "gridcolor": "white",
            "linecolor": "white",
            "ticks": ""
           }
          },
          "scene": {
           "xaxis": {
            "backgroundcolor": "#E5ECF6",
            "gridcolor": "white",
            "gridwidth": 2,
            "linecolor": "white",
            "showbackground": true,
            "ticks": "",
            "zerolinecolor": "white"
           },
           "yaxis": {
            "backgroundcolor": "#E5ECF6",
            "gridcolor": "white",
            "gridwidth": 2,
            "linecolor": "white",
            "showbackground": true,
            "ticks": "",
            "zerolinecolor": "white"
           },
           "zaxis": {
            "backgroundcolor": "#E5ECF6",
            "gridcolor": "white",
            "gridwidth": 2,
            "linecolor": "white",
            "showbackground": true,
            "ticks": "",
            "zerolinecolor": "white"
           }
          },
          "shapedefaults": {
           "line": {
            "color": "#2a3f5f"
           }
          },
          "ternary": {
           "aaxis": {
            "gridcolor": "white",
            "linecolor": "white",
            "ticks": ""
           },
           "baxis": {
            "gridcolor": "white",
            "linecolor": "white",
            "ticks": ""
           },
           "bgcolor": "#E5ECF6",
           "caxis": {
            "gridcolor": "white",
            "linecolor": "white",
            "ticks": ""
           }
          },
          "title": {
           "x": 0.05
          },
          "xaxis": {
           "automargin": true,
           "gridcolor": "white",
           "linecolor": "white",
           "ticks": "",
           "title": {
            "standoff": 15
           },
           "zerolinecolor": "white",
           "zerolinewidth": 2
          },
          "yaxis": {
           "automargin": true,
           "gridcolor": "white",
           "linecolor": "white",
           "ticks": "",
           "title": {
            "standoff": 15
           },
           "zerolinecolor": "white",
           "zerolinewidth": 2
          }
         }
        },
        "xaxis": {
         "anchor": "y",
         "domain": [
          0,
          1
         ],
         "title": {
          "text": "short_name"
         }
        },
        "yaxis": {
         "anchor": "x",
         "domain": [
          0,
          1
         ],
         "title": {
          "text": "num_rating"
         }
        }
       }
      }
     },
     "metadata": {},
     "output_type": "display_data"
    }
   ],
   "source": [
    "\n",
    "px.bar(laptops.sort_values(by='num_rating').tail(50),x='short_name',y='num_rating', barmode='overlay', height=800,)"
   ]
  },
  {
   "cell_type": "code",
   "execution_count": 121,
   "metadata": {},
   "outputs": [
    {
     "data": {
      "application/vnd.plotly.v1+json": {
       "config": {
        "plotlyServerURL": "https://plot.ly"
       },
       "data": [
        {
         "hovertemplate": "price=%{marker.size}<br>num_rating=%{marker.color}<extra></extra>",
         "legendgroup": "",
         "marker": {
          "color": [
           0,
           14,
           555,
           2736,
           4166,
           2410,
           1242,
           411,
           1496,
           9612,
           13080,
           7,
           266,
           579,
           7495,
           277,
           60,
           1705,
           116,
           0,
           23,
           10,
           2691,
           36,
           0,
           14,
           555,
           4166,
           2736,
           2410,
           1242,
           411,
           1496,
           9612,
           13080,
           277,
           266,
           568,
           7495,
           0,
           60,
           116,
           1705,
           36,
           10,
           23,
           2691,
           2208,
           39,
           60,
           385,
           648,
           354,
           554,
           3492,
           411,
           1822,
           68,
           9612,
           7,
           523,
           0,
           60,
           277,
           21,
           367,
           673,
           14,
           4,
           110,
           54,
           2736,
           2205,
           21,
           325,
           648,
           32,
           175,
           3,
           411,
           115,
           201,
           15,
           7,
           136,
           915,
           346,
           277,
           0,
           6,
           3492,
           14,
           27,
           3031,
           1092,
           2736,
           94,
           71,
           12,
           648,
           2239,
           63,
           291,
           411,
           291,
           207,
           0,
           7,
           279,
           5132,
           63,
           277,
           8,
           0,
           35,
           2736,
           123,
           8,
           935,
           0,
           648,
           15,
           5764,
           411,
           242,
           61,
           259,
           7,
           1559,
           18,
           67,
           277,
           159,
           52,
           0,
           14,
           204,
           193,
           48,
           2736,
           931,
           931,
           1272,
           0,
           0,
           0,
           270,
           648,
           36,
           5,
           89,
           7,
           3,
           1488,
           0,
           277,
           67,
           41,
           0,
           2736,
           42,
           1559,
           0,
           0,
           7,
           0,
           0,
           110,
           244,
           8,
           0,
           648,
           423,
           26,
           64,
           7,
           9,
           5,
           1394,
           277,
           74,
           346,
           0,
           2736,
           77,
           30,
           4,
           0,
           0,
           48,
           54,
           110,
           7,
           6,
           0,
           648,
           4,
           4,
           0,
           411,
           0,
           0,
           11,
           7,
           0,
           112,
           0,
           277,
           5,
           0,
           161,
           14,
           0,
           0,
           5,
           2736,
           6,
           0,
           14,
           648,
           2481,
           697,
           0,
           411,
           0,
           0,
           1394,
           7,
           0,
           13,
           297,
           277,
           362,
           41,
           5,
           14,
           3,
           135,
           11,
           2736,
           0,
           11,
           0,
           648,
           54,
           0,
           0,
           411,
           0,
           14,
           27,
           7,
           11,
           30,
           0,
           277,
           645,
           4,
           929,
           14,
           12,
           12,
           0,
           0,
           7,
           3,
           250,
           648,
           0,
           69,
           8,
           411,
           103,
           3,
           32,
           7,
           3,
           11,
           4,
           277,
           3,
           0,
           0,
           14,
           0,
           808,
           1292,
           2736,
           6,
           74,
           0,
           648,
           0,
           55,
           48,
           411,
           44,
           0,
           808,
           7,
           0,
           1292,
           0,
           277,
           0,
           4,
           808,
           2736,
           0,
           464,
           47,
           0,
           208,
           0,
           0,
           648,
           0,
           77,
           3031,
           411,
           0,
           6,
           9,
           7,
           4,
           193,
           4,
           277,
           0,
           4,
           21,
           14,
           0,
           0,
           490,
           2736,
           0,
           490,
           0,
           648,
           83,
           15,
           0,
           7,
           0,
           0,
           259,
           277,
           213,
           0,
           7,
           14,
           21,
           0,
           4,
           2736,
           193,
           9,
           4,
           0,
           244,
           0,
           218,
           648,
           6,
           0,
           9,
           411,
           77,
           0,
           4,
           7,
           1,
           15,
           9,
           277,
           17,
           0,
           1099,
           2736,
           0,
           0,
           31,
           0,
           70,
           808,
           0,
           648,
           0,
           100,
           0,
           411,
           0,
           0,
           33,
           7,
           0,
           0,
           0,
           277,
           0,
           452,
           0,
           14,
           4,
           0,
           0,
           2736,
           7,
           12,
           8,
           648,
           0,
           0,
           145,
           411,
           352,
           175,
           22,
           7,
           0,
           0,
           0,
           277,
           4,
           5,
           0,
           14,
           66,
           0,
           0,
           2736,
           0,
           1559,
           0,
           648,
           6452,
           24,
           0,
           411,
           0,
           5,
           5,
           7,
           107,
           0,
           0,
           277,
           7,
           128,
           11,
           14,
           0,
           0,
           92,
           2736,
           14,
           36,
           0,
           648,
           36,
           0,
           0,
           411,
           0,
           0,
           0,
           7,
           284,
           21,
           184,
           277,
           0,
           106,
           5,
           2736,
           1765,
           0,
           1882,
           0,
           0,
           7,
           0,
           648,
           50,
           0,
           0,
           411,
           464,
           0,
           524,
           7,
           215,
           11,
           0,
           277,
           0,
           695,
           0,
           14,
           0,
           147,
           417,
           2736,
           165,
           0,
           0,
           648,
           0,
           0,
           2823,
           411,
           1414,
           15,
           5,
           7,
           164,
           813,
           927,
           277,
           0,
           17,
           0,
           14,
           0,
           0,
           194,
           2736,
           423,
           7,
           184,
           648,
           0,
           0,
           0,
           411,
           0,
           0,
           4,
           7,
           0,
           0,
           106,
           277,
           10,
           0,
           2,
           14,
           232,
           4,
           0,
           2736,
           464,
           111,
           156,
           648,
           4,
           135,
           11556,
           411,
           11556,
           0,
           1971,
           7,
           0,
           0,
           0,
           277,
           0,
           4,
           0,
           14,
           1765,
           417,
           0,
           2736,
           0,
           61,
           0,
           648,
           21,
           10,
           0,
           7,
           3,
           9,
           0,
           277,
           0,
           0,
           0,
           2736,
           0,
           54,
           35,
           0,
           791,
           623,
           32,
           36,
           0,
           0,
           147,
           648,
           417,
           0,
           13435,
           411,
           489,
           22,
           0,
           7,
           0,
           165,
           0,
           277,
           0,
           4,
           0,
           2736,
           0,
           0,
           0,
           0,
           0,
           0,
           0,
           648,
           5,
           0,
           0,
           411,
           0,
           107,
           4,
           7,
           0,
           0,
           813,
           277,
           0,
           66,
           417,
           14,
           209,
           113,
           0,
           2736,
           370,
           43,
           7,
           648,
           417,
           194,
           3,
           411,
           0,
           4,
           0,
           7,
           915,
           38,
           0,
           277,
           0,
           0,
           0,
           14,
           0,
           0,
           3,
           2736,
           318,
           588,
           3728,
           648,
           12,
           32,
           0,
           411,
           479,
           0,
           0,
           7,
           0,
           32,
           0,
           277,
           3,
           0,
           186,
           2736,
           192,
           125,
           30,
           0,
           0,
           101,
           426,
           648,
           59,
           0,
           3,
           411,
           9,
           0,
           103,
           7,
           39,
           0,
           715,
           277,
           42,
           128,
           0,
           14,
           4,
           132,
           37,
           2736,
           32,
           6,
           0,
           648,
           0,
           0,
           0,
           411,
           0,
           0,
           470,
           7,
           22,
           143,
           15,
           277,
           853,
           3,
           0,
           14,
           0,
           798,
           0,
           2736,
           293,
           291,
           0,
           648,
           0,
           0,
           715,
           411,
           0,
           3,
           37,
           7,
           0,
           132,
           0,
           277,
           0,
           0,
           22,
           2736,
           0,
           59,
           0,
           0,
           0,
           342,
           105,
           648,
           83,
           0,
           0,
           411,
           0,
           2532,
           24,
           7,
           22,
           0,
           0,
           277,
           0,
           14,
           695,
           2736,
           0,
           12,
           0,
           0,
           84,
           0,
           68,
           648,
           38,
           0,
           0,
           411,
           0,
           0,
           0,
           7,
           352,
           0,
           8,
           277,
           0,
           0,
           20,
           2736,
           0,
           342,
           65,
           0,
           0,
           31,
           97,
           648,
           0,
           26,
           405,
           411,
           887,
           0,
           0,
           7,
           1661,
           183,
           113,
           277,
           68,
           56,
           1272,
           2736,
           0,
           0,
           22,
           0,
           9,
           8,
           26,
           648,
           526,
           13,
           96,
           411,
           0,
           674,
           0,
           7,
           15,
           64,
           405,
           277,
           0,
           0,
           717,
           14,
           293,
           22,
           7582,
           2736
          ],
          "coloraxis": "coloraxis",
          "size": [
           114990,
           67990,
           40990,
           54990,
           38490,
           34990,
           34990,
           14990,
           42990,
           82900,
           32990,
           67990,
           52490,
           38490,
           43990,
           55990,
           38990,
           21990,
           48990,
           42490,
           37990,
           49990,
           47990,
           56990,
           114990,
           67990,
           40990,
           38490,
           54990,
           34990,
           34990,
           14990,
           42990,
           82900,
           32990,
           55990,
           52490,
           38490,
           43990,
           42490,
           38990,
           48990,
           21990,
           56990,
           49990,
           37990,
           47990,
           43990,
           33990,
           31990,
           43490,
           64989,
           32990,
           50989,
           52990,
           14990,
           42990,
           38990,
           82900,
           67990,
           49990,
           39990,
           49990,
           55990,
           88990,
           54990,
           37490,
           67990,
           32990,
           55990,
           22990,
           54990,
           36990,
           71990,
           52990,
           64989,
           89890,
           40990,
           66990,
           14990,
           40990,
           61740,
           74990,
           67990,
           106990,
           67990,
           49990,
           55990,
           24490,
           84990,
           56990,
           67990,
           78990,
           57890,
           29900,
           54990,
           58990,
           106990,
           79990,
           64989,
           37490,
           36990,
           52990,
           14990,
           48490,
           25490,
           43990,
           67990,
           84990,
           39490,
           36990,
           55990,
           104990,
           33990,
           61990,
           54990,
           70990,
           67990,
           33990,
           42490,
           64989,
           82990,
           47990,
           14990,
           87990,
           106990,
           42990,
           67990,
           27990,
           83990,
           81890,
           55990,
           63499,
           48990,
           285990,
           67990,
           46990,
           52990,
           74490,
           54990,
           46990,
           46990,
           72990,
           42490,
           285990,
           279990,
           40990,
           64989,
           56990,
           159990,
           34990,
           67990,
           56990,
           15990,
           129990,
           55990,
           91000,
           56990,
           323990,
           54990,
           106990,
           27990,
           38990,
           42490,
           87490,
           219990,
           129990,
           55990,
           30990,
           139990,
           77990,
           64989,
           72990,
           34990,
           56070,
           67990,
           106990,
           64990,
           57990,
           55990,
           47990,
           42500,
           30990,
           54990,
           49990,
           52448,
           79990,
           42490,
           86990,
           68990,
           22990,
           55990,
           79990,
           44990,
           199990,
           64989,
           82490,
           73490,
           248990,
           14990,
           339990,
           229990,
           76990,
           67990,
           151990,
           59990,
           85990,
           55990,
           56990,
           259990,
           66350,
           67990,
           289990,
           211990,
           56990,
           54990,
           44990,
           248990,
           84890,
           64989,
           14990,
           52990,
           55990,
           14990,
           169990,
           129990,
           57990,
           67990,
           39990,
           112990,
           59990,
           55990,
           54490,
           65218,
           60990,
           67990,
           69990,
           36990,
           78990,
           54990,
           35990,
           77990,
           364990,
           64989,
           22990,
           274990,
           67461,
           14990,
           165990,
           84890,
           63300,
           67990,
           97900,
           60990,
           131990,
           55990,
           38990,
           47990,
           37990,
           67990,
           79990,
           99990,
           129990,
           42490,
           129990,
           70490,
           74990,
           64989,
           30990,
           25490,
           44490,
           14990,
           79990,
           67990,
           61990,
           67990,
           58590,
           62990,
           49990,
           55990,
           234989,
           429990,
           131990,
           67990,
           119990,
           112900,
           56990,
           54990,
           187990,
           64990,
           30990,
           64989,
           169990,
           76990,
           68990,
           14990,
           31990,
           304990,
           112900,
           67990,
           244990,
           56990,
           119990,
           55990,
           111091,
           68048,
           131990,
           54990,
           275990,
           71900,
           62490,
           42490,
           15990,
           144990,
           97990,
           64989,
           129990,
           57990,
           51990,
           14990,
           99990,
           139990,
           149990,
           67990,
           41997,
           52990,
           36999,
           55990,
           131054,
           165990,
           99990,
           67990,
           62990,
           43990,
           32990,
           54990,
           129990,
           32990,
           169990,
           64989,
           42990,
           137490,
           97990,
           67990,
           129990,
           199990,
           42990,
           55990,
           83990,
           131990,
           129990,
           67990,
           99990,
           131054,
           41997,
           54990,
           52990,
           149990,
           36999,
           42490,
           30990,
           156990,
           51990,
           64989,
           65778,
           71590,
           42907,
           14990,
           57990,
           43990,
           129990,
           67990,
           109990,
           102490,
           77990,
           55990,
           133990,
           97990,
           39288,
           54990,
           89990,
           159989,
           79990,
           42490,
           43490,
           112900,
           129990,
           64989,
           189990,
           69990,
           219990,
           14990,
           45990,
           131990,
           29490,
           67990,
           59990,
           59990,
           199999,
           55990,
           269990,
           35990,
           154990,
           67990,
           67490,
           154990,
           66729,
           54990,
           34800,
           82990,
           69490,
           64989,
           84290,
           104990,
           39890,
           14990,
           32990,
           42690,
           88990,
           67990,
           167990,
           84990,
           168617,
           55990,
           66998,
           118990,
           158990,
           67990,
           85990,
           31990,
           68490,
           54990,
           94990,
           27990,
           48990,
           64989,
           45900,
           55067,
           296000,
           14990,
           229990,
           250000,
           99990,
           67990,
           42990,
           145990,
           334990,
           55990,
           55990,
           220990,
           37290,
           67990,
           59990,
           264990,
           57063,
           54990,
           67990,
           60990,
           85990,
           64989,
           35990,
           115990,
           124990,
           14990,
           78680,
           65990,
           171990,
           67990,
           25990,
           150490,
           27990,
           55990,
           95490,
           41000,
           87890,
           54990,
           56990,
           50314,
           29990,
           42490,
           92990,
           99990,
           63990,
           64989,
           117990,
           57359,
           49700,
           14990,
           69990,
           109990,
           56990,
           67990,
           73890,
           61990,
           79990,
           55990,
           72990,
           60990,
           189990,
           67990,
           168990,
           76990,
           64990,
           54990,
           48990,
           43990,
           50490,
           64989,
           87490,
           39990,
           27990,
           14990,
           30690,
           71090,
           149990,
           67990,
           65990,
           56989,
           34649,
           55990,
           234990,
           49890,
           49852,
           67990,
           70430,
           77070,
           58990,
           54990,
           69990,
           55990,
           27990,
           64989,
           65990,
           72990,
           95490,
           14990,
           84290,
           75100,
           154990,
           67990,
           157375,
           63990,
           41000,
           55990,
           325990,
           78680,
           73890,
           67990,
           62990,
           49990,
           40990,
           54990,
           69990,
           60890,
           36690,
           64989,
           145990,
           36990,
           35990,
           14990,
           35990,
           79990,
           48100,
           67990,
           72154,
           92990,
           180990,
           55990,
           246490,
           57990,
           33990,
           67990,
           56990,
           64990,
           168617,
           54990,
           59990,
           44190,
           171990,
           64989,
           150490,
           72990,
           119990,
           67990,
           110490,
           129490,
           87490,
           55990,
           50314,
           64990,
           78990,
           54990,
           115990,
           43490,
           69057,
           42490,
           38990,
           26990,
           58990,
           56990,
           189990,
           168990,
           76990,
           64989,
           64990,
           68990,
           48115,
           14990,
           30990,
           129990,
           89990,
           67990,
           124990,
           48990,
           43990,
           55990,
           50490,
           41899,
           50314,
           54990,
           45990,
           57490,
           87490,
           42490,
           75990,
           234990,
           49852,
           64989,
           43490,
           69990,
           117990,
           14990,
           105990,
           162490,
           57990,
           67990,
           52990,
           70430,
           57990,
           55990,
           399990,
           35990,
           67990,
           67990,
           104990,
           34490,
           109990,
           54990,
           55358,
           21990,
           99990,
           64989,
           64990,
           58990,
           41490,
           14990,
           68990,
           43500,
           97890,
           67990,
           69490,
           75990,
           59990,
           55990,
           136590,
           56426,
           54340,
           67990,
           359990,
           40490,
           67990,
           54990,
           44490,
           37990,
           24999,
           64989,
           76500,
           81990,
           150990,
           14990,
           104990,
           86690,
           144998,
           67990,
           43990,
           30490,
           145990,
           55990,
           58340,
           94043,
           62990,
           54990,
           35990,
           45990,
           54160,
           42490,
           103000,
           95990,
           46890,
           64989,
           58990,
           38990,
           74990,
           14990,
           99990,
           35200,
           20990,
           67990,
           50990,
           124990,
           52990,
           55990,
           22990,
           37990,
           132982,
           67990,
           39490,
           27999,
           22990,
           54990,
           49990,
           55990,
           63998,
           64989,
           21490,
           147990,
           90990,
           14990,
           45990,
           108990,
           26990,
           67990,
           25990,
           52990,
           100990,
           55990,
           55600,
           55490,
           86900,
           67990,
           83999,
           39990,
           44990,
           54990,
           39490,
           39990,
           38990,
           64989,
           82500,
           90990,
           52990,
           14990,
           132982,
           69990,
           22990,
           67990,
           35200,
           27999,
           63998,
           55990,
           127990,
           62760,
           25990,
           54990,
           41990,
           58990,
           119990,
           42490,
           119990,
           32990,
           57990,
           64989,
           58990,
           40490,
           84990,
           14990,
           136000,
           56990,
           75990,
           67990,
           42499,
           86070,
           22990,
           55990,
           63331,
           23990,
           56990,
           54990,
           191900,
           71990,
           138990,
           42490,
           37890,
           62990,
           43590,
           64989,
           63490,
           101299,
           54990,
           14990,
           94500,
           63331,
           136000,
           67990,
           32990,
           22990,
           68000,
           55990,
           154990,
           45890,
           97990,
           54990,
           149990,
           32990,
           44490,
           42490,
           173636,
           74990,
           72500,
           64989,
           39980,
           42890,
           56990,
           14990,
           38600,
           34480,
           101299,
           67990,
           26990,
           52990,
           41999,
           55990,
           43590,
           94490,
           77990,
           54990,
           63000,
           71990,
           70490,
           42490,
           112990,
           65990,
           42890,
           64989,
           39990,
           82990,
           61990,
           14990,
           73990,
           69990,
           38990,
           67990,
           81998,
           94990,
           56990,
           55990,
           61380,
           88000,
           45200,
           67990,
           68000,
           70490,
           39490,
           54990
          ],
          "sizemode": "area",
          "sizeref": 1074.975,
          "symbol": "circle"
         },
         "mode": "markers",
         "name": "",
         "orientation": "v",
         "showlegend": false,
         "type": "scatter",
         "x": [
          114990,
          67990,
          40990,
          54990,
          38490,
          34990,
          34990,
          14990,
          42990,
          82900,
          32990,
          67990,
          52490,
          38490,
          43990,
          55990,
          38990,
          21990,
          48990,
          42490,
          37990,
          49990,
          47990,
          56990,
          114990,
          67990,
          40990,
          38490,
          54990,
          34990,
          34990,
          14990,
          42990,
          82900,
          32990,
          55990,
          52490,
          38490,
          43990,
          42490,
          38990,
          48990,
          21990,
          56990,
          49990,
          37990,
          47990,
          43990,
          33990,
          31990,
          43490,
          64989,
          32990,
          50989,
          52990,
          14990,
          42990,
          38990,
          82900,
          67990,
          49990,
          39990,
          49990,
          55990,
          88990,
          54990,
          37490,
          67990,
          32990,
          55990,
          22990,
          54990,
          36990,
          71990,
          52990,
          64989,
          89890,
          40990,
          66990,
          14990,
          40990,
          61740,
          74990,
          67990,
          106990,
          67990,
          49990,
          55990,
          24490,
          84990,
          56990,
          67990,
          78990,
          57890,
          29900,
          54990,
          58990,
          106990,
          79990,
          64989,
          37490,
          36990,
          52990,
          14990,
          48490,
          25490,
          43990,
          67990,
          84990,
          39490,
          36990,
          55990,
          104990,
          33990,
          61990,
          54990,
          70990,
          67990,
          33990,
          42490,
          64989,
          82990,
          47990,
          14990,
          87990,
          106990,
          42990,
          67990,
          27990,
          83990,
          81890,
          55990,
          63499,
          48990,
          285990,
          67990,
          46990,
          52990,
          74490,
          54990,
          46990,
          46990,
          72990,
          42490,
          285990,
          279990,
          40990,
          64989,
          56990,
          159990,
          34990,
          67990,
          56990,
          15990,
          129990,
          55990,
          91000,
          56990,
          323990,
          54990,
          106990,
          27990,
          38990,
          42490,
          87490,
          219990,
          129990,
          55990,
          30990,
          139990,
          77990,
          64989,
          72990,
          34990,
          56070,
          67990,
          106990,
          64990,
          57990,
          55990,
          47990,
          42500,
          30990,
          54990,
          49990,
          52448,
          79990,
          42490,
          86990,
          68990,
          22990,
          55990,
          79990,
          44990,
          199990,
          64989,
          82490,
          73490,
          248990,
          14990,
          339990,
          229990,
          76990,
          67990,
          151990,
          59990,
          85990,
          55990,
          56990,
          259990,
          66350,
          67990,
          289990,
          211990,
          56990,
          54990,
          44990,
          248990,
          84890,
          64989,
          14990,
          52990,
          55990,
          14990,
          169990,
          129990,
          57990,
          67990,
          39990,
          112990,
          59990,
          55990,
          54490,
          65218,
          60990,
          67990,
          69990,
          36990,
          78990,
          54990,
          35990,
          77990,
          364990,
          64989,
          22990,
          274990,
          67461,
          14990,
          165990,
          84890,
          63300,
          67990,
          97900,
          60990,
          131990,
          55990,
          38990,
          47990,
          37990,
          67990,
          79990,
          99990,
          129990,
          42490,
          129990,
          70490,
          74990,
          64989,
          30990,
          25490,
          44490,
          14990,
          79990,
          67990,
          61990,
          67990,
          58590,
          62990,
          49990,
          55990,
          234989,
          429990,
          131990,
          67990,
          119990,
          112900,
          56990,
          54990,
          187990,
          64990,
          30990,
          64989,
          169990,
          76990,
          68990,
          14990,
          31990,
          304990,
          112900,
          67990,
          244990,
          56990,
          119990,
          55990,
          111091,
          68048,
          131990,
          54990,
          275990,
          71900,
          62490,
          42490,
          15990,
          144990,
          97990,
          64989,
          129990,
          57990,
          51990,
          14990,
          99990,
          139990,
          149990,
          67990,
          41997,
          52990,
          36999,
          55990,
          131054,
          165990,
          99990,
          67990,
          62990,
          43990,
          32990,
          54990,
          129990,
          32990,
          169990,
          64989,
          42990,
          137490,
          97990,
          67990,
          129990,
          199990,
          42990,
          55990,
          83990,
          131990,
          129990,
          67990,
          99990,
          131054,
          41997,
          54990,
          52990,
          149990,
          36999,
          42490,
          30990,
          156990,
          51990,
          64989,
          65778,
          71590,
          42907,
          14990,
          57990,
          43990,
          129990,
          67990,
          109990,
          102490,
          77990,
          55990,
          133990,
          97990,
          39288,
          54990,
          89990,
          159989,
          79990,
          42490,
          43490,
          112900,
          129990,
          64989,
          189990,
          69990,
          219990,
          14990,
          45990,
          131990,
          29490,
          67990,
          59990,
          59990,
          199999,
          55990,
          269990,
          35990,
          154990,
          67990,
          67490,
          154990,
          66729,
          54990,
          34800,
          82990,
          69490,
          64989,
          84290,
          104990,
          39890,
          14990,
          32990,
          42690,
          88990,
          67990,
          167990,
          84990,
          168617,
          55990,
          66998,
          118990,
          158990,
          67990,
          85990,
          31990,
          68490,
          54990,
          94990,
          27990,
          48990,
          64989,
          45900,
          55067,
          296000,
          14990,
          229990,
          250000,
          99990,
          67990,
          42990,
          145990,
          334990,
          55990,
          55990,
          220990,
          37290,
          67990,
          59990,
          264990,
          57063,
          54990,
          67990,
          60990,
          85990,
          64989,
          35990,
          115990,
          124990,
          14990,
          78680,
          65990,
          171990,
          67990,
          25990,
          150490,
          27990,
          55990,
          95490,
          41000,
          87890,
          54990,
          56990,
          50314,
          29990,
          42490,
          92990,
          99990,
          63990,
          64989,
          117990,
          57359,
          49700,
          14990,
          69990,
          109990,
          56990,
          67990,
          73890,
          61990,
          79990,
          55990,
          72990,
          60990,
          189990,
          67990,
          168990,
          76990,
          64990,
          54990,
          48990,
          43990,
          50490,
          64989,
          87490,
          39990,
          27990,
          14990,
          30690,
          71090,
          149990,
          67990,
          65990,
          56989,
          34649,
          55990,
          234990,
          49890,
          49852,
          67990,
          70430,
          77070,
          58990,
          54990,
          69990,
          55990,
          27990,
          64989,
          65990,
          72990,
          95490,
          14990,
          84290,
          75100,
          154990,
          67990,
          157375,
          63990,
          41000,
          55990,
          325990,
          78680,
          73890,
          67990,
          62990,
          49990,
          40990,
          54990,
          69990,
          60890,
          36690,
          64989,
          145990,
          36990,
          35990,
          14990,
          35990,
          79990,
          48100,
          67990,
          72154,
          92990,
          180990,
          55990,
          246490,
          57990,
          33990,
          67990,
          56990,
          64990,
          168617,
          54990,
          59990,
          44190,
          171990,
          64989,
          150490,
          72990,
          119990,
          67990,
          110490,
          129490,
          87490,
          55990,
          50314,
          64990,
          78990,
          54990,
          115990,
          43490,
          69057,
          42490,
          38990,
          26990,
          58990,
          56990,
          189990,
          168990,
          76990,
          64989,
          64990,
          68990,
          48115,
          14990,
          30990,
          129990,
          89990,
          67990,
          124990,
          48990,
          43990,
          55990,
          50490,
          41899,
          50314,
          54990,
          45990,
          57490,
          87490,
          42490,
          75990,
          234990,
          49852,
          64989,
          43490,
          69990,
          117990,
          14990,
          105990,
          162490,
          57990,
          67990,
          52990,
          70430,
          57990,
          55990,
          399990,
          35990,
          67990,
          67990,
          104990,
          34490,
          109990,
          54990,
          55358,
          21990,
          99990,
          64989,
          64990,
          58990,
          41490,
          14990,
          68990,
          43500,
          97890,
          67990,
          69490,
          75990,
          59990,
          55990,
          136590,
          56426,
          54340,
          67990,
          359990,
          40490,
          67990,
          54990,
          44490,
          37990,
          24999,
          64989,
          76500,
          81990,
          150990,
          14990,
          104990,
          86690,
          144998,
          67990,
          43990,
          30490,
          145990,
          55990,
          58340,
          94043,
          62990,
          54990,
          35990,
          45990,
          54160,
          42490,
          103000,
          95990,
          46890,
          64989,
          58990,
          38990,
          74990,
          14990,
          99990,
          35200,
          20990,
          67990,
          50990,
          124990,
          52990,
          55990,
          22990,
          37990,
          132982,
          67990,
          39490,
          27999,
          22990,
          54990,
          49990,
          55990,
          63998,
          64989,
          21490,
          147990,
          90990,
          14990,
          45990,
          108990,
          26990,
          67990,
          25990,
          52990,
          100990,
          55990,
          55600,
          55490,
          86900,
          67990,
          83999,
          39990,
          44990,
          54990,
          39490,
          39990,
          38990,
          64989,
          82500,
          90990,
          52990,
          14990,
          132982,
          69990,
          22990,
          67990,
          35200,
          27999,
          63998,
          55990,
          127990,
          62760,
          25990,
          54990,
          41990,
          58990,
          119990,
          42490,
          119990,
          32990,
          57990,
          64989,
          58990,
          40490,
          84990,
          14990,
          136000,
          56990,
          75990,
          67990,
          42499,
          86070,
          22990,
          55990,
          63331,
          23990,
          56990,
          54990,
          191900,
          71990,
          138990,
          42490,
          37890,
          62990,
          43590,
          64989,
          63490,
          101299,
          54990,
          14990,
          94500,
          63331,
          136000,
          67990,
          32990,
          22990,
          68000,
          55990,
          154990,
          45890,
          97990,
          54990,
          149990,
          32990,
          44490,
          42490,
          173636,
          74990,
          72500,
          64989,
          39980,
          42890,
          56990,
          14990,
          38600,
          34480,
          101299,
          67990,
          26990,
          52990,
          41999,
          55990,
          43590,
          94490,
          77990,
          54990,
          63000,
          71990,
          70490,
          42490,
          112990,
          65990,
          42890,
          64989,
          39990,
          82990,
          61990,
          14990,
          73990,
          69990,
          38990,
          67990,
          81998,
          94990,
          56990,
          55990,
          61380,
          88000,
          45200,
          67990,
          68000,
          70490,
          39490,
          54990
         ],
         "xaxis": "x",
         "y": [
          0,
          14,
          555,
          2736,
          4166,
          2410,
          1242,
          411,
          1496,
          9612,
          13080,
          7,
          266,
          579,
          7495,
          277,
          60,
          1705,
          116,
          0,
          23,
          10,
          2691,
          36,
          0,
          14,
          555,
          4166,
          2736,
          2410,
          1242,
          411,
          1496,
          9612,
          13080,
          277,
          266,
          568,
          7495,
          0,
          60,
          116,
          1705,
          36,
          10,
          23,
          2691,
          2208,
          39,
          60,
          385,
          648,
          354,
          554,
          3492,
          411,
          1822,
          68,
          9612,
          7,
          523,
          0,
          60,
          277,
          21,
          367,
          673,
          14,
          4,
          110,
          54,
          2736,
          2205,
          21,
          325,
          648,
          32,
          175,
          3,
          411,
          115,
          201,
          15,
          7,
          136,
          915,
          346,
          277,
          0,
          6,
          3492,
          14,
          27,
          3031,
          1092,
          2736,
          94,
          71,
          12,
          648,
          2239,
          63,
          291,
          411,
          291,
          207,
          0,
          7,
          279,
          5132,
          63,
          277,
          8,
          0,
          35,
          2736,
          123,
          8,
          935,
          0,
          648,
          15,
          5764,
          411,
          242,
          61,
          259,
          7,
          1559,
          18,
          67,
          277,
          159,
          52,
          0,
          14,
          204,
          193,
          48,
          2736,
          931,
          931,
          1272,
          0,
          0,
          0,
          270,
          648,
          36,
          5,
          89,
          7,
          3,
          1488,
          0,
          277,
          67,
          41,
          0,
          2736,
          42,
          1559,
          0,
          0,
          7,
          0,
          0,
          110,
          244,
          8,
          0,
          648,
          423,
          26,
          64,
          7,
          9,
          5,
          1394,
          277,
          74,
          346,
          0,
          2736,
          77,
          30,
          4,
          0,
          0,
          48,
          54,
          110,
          7,
          6,
          0,
          648,
          4,
          4,
          0,
          411,
          0,
          0,
          11,
          7,
          0,
          112,
          0,
          277,
          5,
          0,
          161,
          14,
          0,
          0,
          5,
          2736,
          6,
          0,
          14,
          648,
          2481,
          697,
          0,
          411,
          0,
          0,
          1394,
          7,
          0,
          13,
          297,
          277,
          362,
          41,
          5,
          14,
          3,
          135,
          11,
          2736,
          0,
          11,
          0,
          648,
          54,
          0,
          0,
          411,
          0,
          14,
          27,
          7,
          11,
          30,
          0,
          277,
          645,
          4,
          929,
          14,
          12,
          12,
          0,
          0,
          7,
          3,
          250,
          648,
          0,
          69,
          8,
          411,
          103,
          3,
          32,
          7,
          3,
          11,
          4,
          277,
          3,
          0,
          0,
          14,
          0,
          808,
          1292,
          2736,
          6,
          74,
          0,
          648,
          0,
          55,
          48,
          411,
          44,
          0,
          808,
          7,
          0,
          1292,
          0,
          277,
          0,
          4,
          808,
          2736,
          0,
          464,
          47,
          0,
          208,
          0,
          0,
          648,
          0,
          77,
          3031,
          411,
          0,
          6,
          9,
          7,
          4,
          193,
          4,
          277,
          0,
          4,
          21,
          14,
          0,
          0,
          490,
          2736,
          0,
          490,
          0,
          648,
          83,
          15,
          0,
          7,
          0,
          0,
          259,
          277,
          213,
          0,
          7,
          14,
          21,
          0,
          4,
          2736,
          193,
          9,
          4,
          0,
          244,
          0,
          218,
          648,
          6,
          0,
          9,
          411,
          77,
          0,
          4,
          7,
          1,
          15,
          9,
          277,
          17,
          0,
          1099,
          2736,
          0,
          0,
          31,
          0,
          70,
          808,
          0,
          648,
          0,
          100,
          0,
          411,
          0,
          0,
          33,
          7,
          0,
          0,
          0,
          277,
          0,
          452,
          0,
          14,
          4,
          0,
          0,
          2736,
          7,
          12,
          8,
          648,
          0,
          0,
          145,
          411,
          352,
          175,
          22,
          7,
          0,
          0,
          0,
          277,
          4,
          5,
          0,
          14,
          66,
          0,
          0,
          2736,
          0,
          1559,
          0,
          648,
          6452,
          24,
          0,
          411,
          0,
          5,
          5,
          7,
          107,
          0,
          0,
          277,
          7,
          128,
          11,
          14,
          0,
          0,
          92,
          2736,
          14,
          36,
          0,
          648,
          36,
          0,
          0,
          411,
          0,
          0,
          0,
          7,
          284,
          21,
          184,
          277,
          0,
          106,
          5,
          2736,
          1765,
          0,
          1882,
          0,
          0,
          7,
          0,
          648,
          50,
          0,
          0,
          411,
          464,
          0,
          524,
          7,
          215,
          11,
          0,
          277,
          0,
          695,
          0,
          14,
          0,
          147,
          417,
          2736,
          165,
          0,
          0,
          648,
          0,
          0,
          2823,
          411,
          1414,
          15,
          5,
          7,
          164,
          813,
          927,
          277,
          0,
          17,
          0,
          14,
          0,
          0,
          194,
          2736,
          423,
          7,
          184,
          648,
          0,
          0,
          0,
          411,
          0,
          0,
          4,
          7,
          0,
          0,
          106,
          277,
          10,
          0,
          2,
          14,
          232,
          4,
          0,
          2736,
          464,
          111,
          156,
          648,
          4,
          135,
          11556,
          411,
          11556,
          0,
          1971,
          7,
          0,
          0,
          0,
          277,
          0,
          4,
          0,
          14,
          1765,
          417,
          0,
          2736,
          0,
          61,
          0,
          648,
          21,
          10,
          0,
          7,
          3,
          9,
          0,
          277,
          0,
          0,
          0,
          2736,
          0,
          54,
          35,
          0,
          791,
          623,
          32,
          36,
          0,
          0,
          147,
          648,
          417,
          0,
          13435,
          411,
          489,
          22,
          0,
          7,
          0,
          165,
          0,
          277,
          0,
          4,
          0,
          2736,
          0,
          0,
          0,
          0,
          0,
          0,
          0,
          648,
          5,
          0,
          0,
          411,
          0,
          107,
          4,
          7,
          0,
          0,
          813,
          277,
          0,
          66,
          417,
          14,
          209,
          113,
          0,
          2736,
          370,
          43,
          7,
          648,
          417,
          194,
          3,
          411,
          0,
          4,
          0,
          7,
          915,
          38,
          0,
          277,
          0,
          0,
          0,
          14,
          0,
          0,
          3,
          2736,
          318,
          588,
          3728,
          648,
          12,
          32,
          0,
          411,
          479,
          0,
          0,
          7,
          0,
          32,
          0,
          277,
          3,
          0,
          186,
          2736,
          192,
          125,
          30,
          0,
          0,
          101,
          426,
          648,
          59,
          0,
          3,
          411,
          9,
          0,
          103,
          7,
          39,
          0,
          715,
          277,
          42,
          128,
          0,
          14,
          4,
          132,
          37,
          2736,
          32,
          6,
          0,
          648,
          0,
          0,
          0,
          411,
          0,
          0,
          470,
          7,
          22,
          143,
          15,
          277,
          853,
          3,
          0,
          14,
          0,
          798,
          0,
          2736,
          293,
          291,
          0,
          648,
          0,
          0,
          715,
          411,
          0,
          3,
          37,
          7,
          0,
          132,
          0,
          277,
          0,
          0,
          22,
          2736,
          0,
          59,
          0,
          0,
          0,
          342,
          105,
          648,
          83,
          0,
          0,
          411,
          0,
          2532,
          24,
          7,
          22,
          0,
          0,
          277,
          0,
          14,
          695,
          2736,
          0,
          12,
          0,
          0,
          84,
          0,
          68,
          648,
          38,
          0,
          0,
          411,
          0,
          0,
          0,
          7,
          352,
          0,
          8,
          277,
          0,
          0,
          20,
          2736,
          0,
          342,
          65,
          0,
          0,
          31,
          97,
          648,
          0,
          26,
          405,
          411,
          887,
          0,
          0,
          7,
          1661,
          183,
          113,
          277,
          68,
          56,
          1272,
          2736,
          0,
          0,
          22,
          0,
          9,
          8,
          26,
          648,
          526,
          13,
          96,
          411,
          0,
          674,
          0,
          7,
          15,
          64,
          405,
          277,
          0,
          0,
          717,
          14,
          293,
          22,
          7582,
          2736
         ],
         "yaxis": "y"
        }
       ],
       "layout": {
        "coloraxis": {
         "colorbar": {
          "title": {
           "text": "num_rating"
          }
         },
         "colorscale": [
          [
           0,
           "#0d0887"
          ],
          [
           0.1111111111111111,
           "#46039f"
          ],
          [
           0.2222222222222222,
           "#7201a8"
          ],
          [
           0.3333333333333333,
           "#9c179e"
          ],
          [
           0.4444444444444444,
           "#bd3786"
          ],
          [
           0.5555555555555556,
           "#d8576b"
          ],
          [
           0.6666666666666666,
           "#ed7953"
          ],
          [
           0.7777777777777778,
           "#fb9f3a"
          ],
          [
           0.8888888888888888,
           "#fdca26"
          ],
          [
           1,
           "#f0f921"
          ]
         ]
        },
        "height": 800,
        "legend": {
         "itemsizing": "constant",
         "tracegroupgap": 0
        },
        "margin": {
         "t": 60
        },
        "template": {
         "data": {
          "bar": [
           {
            "error_x": {
             "color": "#2a3f5f"
            },
            "error_y": {
             "color": "#2a3f5f"
            },
            "marker": {
             "line": {
              "color": "#E5ECF6",
              "width": 0.5
             },
             "pattern": {
              "fillmode": "overlay",
              "size": 10,
              "solidity": 0.2
             }
            },
            "type": "bar"
           }
          ],
          "barpolar": [
           {
            "marker": {
             "line": {
              "color": "#E5ECF6",
              "width": 0.5
             },
             "pattern": {
              "fillmode": "overlay",
              "size": 10,
              "solidity": 0.2
             }
            },
            "type": "barpolar"
           }
          ],
          "carpet": [
           {
            "aaxis": {
             "endlinecolor": "#2a3f5f",
             "gridcolor": "white",
             "linecolor": "white",
             "minorgridcolor": "white",
             "startlinecolor": "#2a3f5f"
            },
            "baxis": {
             "endlinecolor": "#2a3f5f",
             "gridcolor": "white",
             "linecolor": "white",
             "minorgridcolor": "white",
             "startlinecolor": "#2a3f5f"
            },
            "type": "carpet"
           }
          ],
          "choropleth": [
           {
            "colorbar": {
             "outlinewidth": 0,
             "ticks": ""
            },
            "type": "choropleth"
           }
          ],
          "contour": [
           {
            "colorbar": {
             "outlinewidth": 0,
             "ticks": ""
            },
            "colorscale": [
             [
              0,
              "#0d0887"
             ],
             [
              0.1111111111111111,
              "#46039f"
             ],
             [
              0.2222222222222222,
              "#7201a8"
             ],
             [
              0.3333333333333333,
              "#9c179e"
             ],
             [
              0.4444444444444444,
              "#bd3786"
             ],
             [
              0.5555555555555556,
              "#d8576b"
             ],
             [
              0.6666666666666666,
              "#ed7953"
             ],
             [
              0.7777777777777778,
              "#fb9f3a"
             ],
             [
              0.8888888888888888,
              "#fdca26"
             ],
             [
              1,
              "#f0f921"
             ]
            ],
            "type": "contour"
           }
          ],
          "contourcarpet": [
           {
            "colorbar": {
             "outlinewidth": 0,
             "ticks": ""
            },
            "type": "contourcarpet"
           }
          ],
          "heatmap": [
           {
            "colorbar": {
             "outlinewidth": 0,
             "ticks": ""
            },
            "colorscale": [
             [
              0,
              "#0d0887"
             ],
             [
              0.1111111111111111,
              "#46039f"
             ],
             [
              0.2222222222222222,
              "#7201a8"
             ],
             [
              0.3333333333333333,
              "#9c179e"
             ],
             [
              0.4444444444444444,
              "#bd3786"
             ],
             [
              0.5555555555555556,
              "#d8576b"
             ],
             [
              0.6666666666666666,
              "#ed7953"
             ],
             [
              0.7777777777777778,
              "#fb9f3a"
             ],
             [
              0.8888888888888888,
              "#fdca26"
             ],
             [
              1,
              "#f0f921"
             ]
            ],
            "type": "heatmap"
           }
          ],
          "heatmapgl": [
           {
            "colorbar": {
             "outlinewidth": 0,
             "ticks": ""
            },
            "colorscale": [
             [
              0,
              "#0d0887"
             ],
             [
              0.1111111111111111,
              "#46039f"
             ],
             [
              0.2222222222222222,
              "#7201a8"
             ],
             [
              0.3333333333333333,
              "#9c179e"
             ],
             [
              0.4444444444444444,
              "#bd3786"
             ],
             [
              0.5555555555555556,
              "#d8576b"
             ],
             [
              0.6666666666666666,
              "#ed7953"
             ],
             [
              0.7777777777777778,
              "#fb9f3a"
             ],
             [
              0.8888888888888888,
              "#fdca26"
             ],
             [
              1,
              "#f0f921"
             ]
            ],
            "type": "heatmapgl"
           }
          ],
          "histogram": [
           {
            "marker": {
             "pattern": {
              "fillmode": "overlay",
              "size": 10,
              "solidity": 0.2
             }
            },
            "type": "histogram"
           }
          ],
          "histogram2d": [
           {
            "colorbar": {
             "outlinewidth": 0,
             "ticks": ""
            },
            "colorscale": [
             [
              0,
              "#0d0887"
             ],
             [
              0.1111111111111111,
              "#46039f"
             ],
             [
              0.2222222222222222,
              "#7201a8"
             ],
             [
              0.3333333333333333,
              "#9c179e"
             ],
             [
              0.4444444444444444,
              "#bd3786"
             ],
             [
              0.5555555555555556,
              "#d8576b"
             ],
             [
              0.6666666666666666,
              "#ed7953"
             ],
             [
              0.7777777777777778,
              "#fb9f3a"
             ],
             [
              0.8888888888888888,
              "#fdca26"
             ],
             [
              1,
              "#f0f921"
             ]
            ],
            "type": "histogram2d"
           }
          ],
          "histogram2dcontour": [
           {
            "colorbar": {
             "outlinewidth": 0,
             "ticks": ""
            },
            "colorscale": [
             [
              0,
              "#0d0887"
             ],
             [
              0.1111111111111111,
              "#46039f"
             ],
             [
              0.2222222222222222,
              "#7201a8"
             ],
             [
              0.3333333333333333,
              "#9c179e"
             ],
             [
              0.4444444444444444,
              "#bd3786"
             ],
             [
              0.5555555555555556,
              "#d8576b"
             ],
             [
              0.6666666666666666,
              "#ed7953"
             ],
             [
              0.7777777777777778,
              "#fb9f3a"
             ],
             [
              0.8888888888888888,
              "#fdca26"
             ],
             [
              1,
              "#f0f921"
             ]
            ],
            "type": "histogram2dcontour"
           }
          ],
          "mesh3d": [
           {
            "colorbar": {
             "outlinewidth": 0,
             "ticks": ""
            },
            "type": "mesh3d"
           }
          ],
          "parcoords": [
           {
            "line": {
             "colorbar": {
              "outlinewidth": 0,
              "ticks": ""
             }
            },
            "type": "parcoords"
           }
          ],
          "pie": [
           {
            "automargin": true,
            "type": "pie"
           }
          ],
          "scatter": [
           {
            "fillpattern": {
             "fillmode": "overlay",
             "size": 10,
             "solidity": 0.2
            },
            "type": "scatter"
           }
          ],
          "scatter3d": [
           {
            "line": {
             "colorbar": {
              "outlinewidth": 0,
              "ticks": ""
             }
            },
            "marker": {
             "colorbar": {
              "outlinewidth": 0,
              "ticks": ""
             }
            },
            "type": "scatter3d"
           }
          ],
          "scattercarpet": [
           {
            "marker": {
             "colorbar": {
              "outlinewidth": 0,
              "ticks": ""
             }
            },
            "type": "scattercarpet"
           }
          ],
          "scattergeo": [
           {
            "marker": {
             "colorbar": {
              "outlinewidth": 0,
              "ticks": ""
             }
            },
            "type": "scattergeo"
           }
          ],
          "scattergl": [
           {
            "marker": {
             "colorbar": {
              "outlinewidth": 0,
              "ticks": ""
             }
            },
            "type": "scattergl"
           }
          ],
          "scattermapbox": [
           {
            "marker": {
             "colorbar": {
              "outlinewidth": 0,
              "ticks": ""
             }
            },
            "type": "scattermapbox"
           }
          ],
          "scatterpolar": [
           {
            "marker": {
             "colorbar": {
              "outlinewidth": 0,
              "ticks": ""
             }
            },
            "type": "scatterpolar"
           }
          ],
          "scatterpolargl": [
           {
            "marker": {
             "colorbar": {
              "outlinewidth": 0,
              "ticks": ""
             }
            },
            "type": "scatterpolargl"
           }
          ],
          "scatterternary": [
           {
            "marker": {
             "colorbar": {
              "outlinewidth": 0,
              "ticks": ""
             }
            },
            "type": "scatterternary"
           }
          ],
          "surface": [
           {
            "colorbar": {
             "outlinewidth": 0,
             "ticks": ""
            },
            "colorscale": [
             [
              0,
              "#0d0887"
             ],
             [
              0.1111111111111111,
              "#46039f"
             ],
             [
              0.2222222222222222,
              "#7201a8"
             ],
             [
              0.3333333333333333,
              "#9c179e"
             ],
             [
              0.4444444444444444,
              "#bd3786"
             ],
             [
              0.5555555555555556,
              "#d8576b"
             ],
             [
              0.6666666666666666,
              "#ed7953"
             ],
             [
              0.7777777777777778,
              "#fb9f3a"
             ],
             [
              0.8888888888888888,
              "#fdca26"
             ],
             [
              1,
              "#f0f921"
             ]
            ],
            "type": "surface"
           }
          ],
          "table": [
           {
            "cells": {
             "fill": {
              "color": "#EBF0F8"
             },
             "line": {
              "color": "white"
             }
            },
            "header": {
             "fill": {
              "color": "#C8D4E3"
             },
             "line": {
              "color": "white"
             }
            },
            "type": "table"
           }
          ]
         },
         "layout": {
          "annotationdefaults": {
           "arrowcolor": "#2a3f5f",
           "arrowhead": 0,
           "arrowwidth": 1
          },
          "autotypenumbers": "strict",
          "coloraxis": {
           "colorbar": {
            "outlinewidth": 0,
            "ticks": ""
           }
          },
          "colorscale": {
           "diverging": [
            [
             0,
             "#8e0152"
            ],
            [
             0.1,
             "#c51b7d"
            ],
            [
             0.2,
             "#de77ae"
            ],
            [
             0.3,
             "#f1b6da"
            ],
            [
             0.4,
             "#fde0ef"
            ],
            [
             0.5,
             "#f7f7f7"
            ],
            [
             0.6,
             "#e6f5d0"
            ],
            [
             0.7,
             "#b8e186"
            ],
            [
             0.8,
             "#7fbc41"
            ],
            [
             0.9,
             "#4d9221"
            ],
            [
             1,
             "#276419"
            ]
           ],
           "sequential": [
            [
             0,
             "#0d0887"
            ],
            [
             0.1111111111111111,
             "#46039f"
            ],
            [
             0.2222222222222222,
             "#7201a8"
            ],
            [
             0.3333333333333333,
             "#9c179e"
            ],
            [
             0.4444444444444444,
             "#bd3786"
            ],
            [
             0.5555555555555556,
             "#d8576b"
            ],
            [
             0.6666666666666666,
             "#ed7953"
            ],
            [
             0.7777777777777778,
             "#fb9f3a"
            ],
            [
             0.8888888888888888,
             "#fdca26"
            ],
            [
             1,
             "#f0f921"
            ]
           ],
           "sequentialminus": [
            [
             0,
             "#0d0887"
            ],
            [
             0.1111111111111111,
             "#46039f"
            ],
            [
             0.2222222222222222,
             "#7201a8"
            ],
            [
             0.3333333333333333,
             "#9c179e"
            ],
            [
             0.4444444444444444,
             "#bd3786"
            ],
            [
             0.5555555555555556,
             "#d8576b"
            ],
            [
             0.6666666666666666,
             "#ed7953"
            ],
            [
             0.7777777777777778,
             "#fb9f3a"
            ],
            [
             0.8888888888888888,
             "#fdca26"
            ],
            [
             1,
             "#f0f921"
            ]
           ]
          },
          "colorway": [
           "#636efa",
           "#EF553B",
           "#00cc96",
           "#ab63fa",
           "#FFA15A",
           "#19d3f3",
           "#FF6692",
           "#B6E880",
           "#FF97FF",
           "#FECB52"
          ],
          "font": {
           "color": "#2a3f5f"
          },
          "geo": {
           "bgcolor": "white",
           "lakecolor": "white",
           "landcolor": "#E5ECF6",
           "showlakes": true,
           "showland": true,
           "subunitcolor": "white"
          },
          "hoverlabel": {
           "align": "left"
          },
          "hovermode": "closest",
          "mapbox": {
           "style": "light"
          },
          "paper_bgcolor": "white",
          "plot_bgcolor": "#E5ECF6",
          "polar": {
           "angularaxis": {
            "gridcolor": "white",
            "linecolor": "white",
            "ticks": ""
           },
           "bgcolor": "#E5ECF6",
           "radialaxis": {
            "gridcolor": "white",
            "linecolor": "white",
            "ticks": ""
           }
          },
          "scene": {
           "xaxis": {
            "backgroundcolor": "#E5ECF6",
            "gridcolor": "white",
            "gridwidth": 2,
            "linecolor": "white",
            "showbackground": true,
            "ticks": "",
            "zerolinecolor": "white"
           },
           "yaxis": {
            "backgroundcolor": "#E5ECF6",
            "gridcolor": "white",
            "gridwidth": 2,
            "linecolor": "white",
            "showbackground": true,
            "ticks": "",
            "zerolinecolor": "white"
           },
           "zaxis": {
            "backgroundcolor": "#E5ECF6",
            "gridcolor": "white",
            "gridwidth": 2,
            "linecolor": "white",
            "showbackground": true,
            "ticks": "",
            "zerolinecolor": "white"
           }
          },
          "shapedefaults": {
           "line": {
            "color": "#2a3f5f"
           }
          },
          "ternary": {
           "aaxis": {
            "gridcolor": "white",
            "linecolor": "white",
            "ticks": ""
           },
           "baxis": {
            "gridcolor": "white",
            "linecolor": "white",
            "ticks": ""
           },
           "bgcolor": "#E5ECF6",
           "caxis": {
            "gridcolor": "white",
            "linecolor": "white",
            "ticks": ""
           }
          },
          "title": {
           "x": 0.05
          },
          "xaxis": {
           "automargin": true,
           "gridcolor": "white",
           "linecolor": "white",
           "ticks": "",
           "title": {
            "standoff": 15
           },
           "zerolinecolor": "white",
           "zerolinewidth": 2
          },
          "yaxis": {
           "automargin": true,
           "gridcolor": "white",
           "linecolor": "white",
           "ticks": "",
           "title": {
            "standoff": 15
           },
           "zerolinecolor": "white",
           "zerolinewidth": 2
          }
         }
        },
        "xaxis": {
         "anchor": "y",
         "domain": [
          0,
          1
         ],
         "title": {
          "text": "price"
         },
         "type": "log"
        },
        "yaxis": {
         "anchor": "x",
         "domain": [
          0,
          1
         ],
         "title": {
          "text": "num_rating"
         },
         "type": "log"
        }
       }
      }
     },
     "metadata": {},
     "output_type": "display_data"
    }
   ],
   "source": [
    "\n",
    "px.scatter(laptops,x='price',y='num_rating', height=800, size='price', log_x=True, log_y= True, color='num_rating')"
   ]
  },
  {
   "cell_type": "code",
   "execution_count": null,
   "metadata": {},
   "outputs": [],
   "source": [
    "\n",
    "\n",
    "\n",
    "\n",
    "\n",
    "\n",
    "\n",
    "\n",
    "\n",
    "\n",
    "\n",
    "\n",
    "\n",
    "\n",
    "\n",
    "\n",
    "\n",
    "\n",
    "\n",
    "\n",
    "\n",
    "\n",
    "\n",
    "\n",
    "\n",
    "\n",
    "\n",
    "\n",
    "\n",
    "\n",
    "\n",
    "\n",
    "\n",
    "\n",
    "\n",
    "\n",
    "\n",
    "\n",
    "\n",
    "\n",
    "\n",
    "\n",
    "\n",
    "\n",
    "\n",
    "\n",
    "\n",
    "\n",
    "\n",
    "\n",
    "\n",
    "\n",
    "\n",
    "\n",
    "\n",
    "\n",
    "\n",
    "\n",
    "\n"
   ]
  }
 ],
 "metadata": {
  "kernelspec": {
   "display_name": "base",
   "language": "python",
   "name": "python3"
  },
  "language_info": {
   "codemirror_mode": {
    "name": "ipython",
    "version": 3
   },
   "file_extension": ".py",
   "mimetype": "text/x-python",
   "name": "python",
   "nbconvert_exporter": "python",
   "pygments_lexer": "ipython3",
   "version": "3.10.9"
  },
  "orig_nbformat": 4
 },
 "nbformat": 4,
 "nbformat_minor": 2
}
